{
 "cells": [
  {
   "cell_type": "code",
   "execution_count": 15,
   "id": "680163ac-c905-4543-a213-6c1202af2fa8",
   "metadata": {},
   "outputs": [
    {
     "name": "stdout",
     "output_type": "stream",
     "text": [
      "<class 'netCDF4._netCDF4.Dataset'>\n",
      "root group (NETCDF4 data model, file format HDF5):\n",
      "    name: /ccc/work/cont003/gencmip6/p24cozic/IGCM_OUT/IPSLCM5A2CHT/PROD/historical/CM5A2CHT1-VLR-hist-02/CMIP6/OCE/tos_Omon_IPSL-CM5A2-INCA_historical_r1i1p1f1_gn_%start_date%-%end_date%\n",
      "    Conventions: CF-1.7 CMIP-6.2\n",
      "    creation_date: 2020-05-28T15:32:37Z\n",
      "    tracking_id: hdl:21.14100/e60b59a2-ff44-4828-9d98-122bc86b27d0\n",
      "    description: CMIP6 historical\n",
      "    title: IPSL-CM5A2-INCA model output prepared for CMIP6 / CMIP historical\n",
      "    activity_id: CMIP\n",
      "    contact: ipsl-cmip6@listes.ipsl.fr\n",
      "    data_specs_version: 01.00.28\n",
      "    dr2xml_version: 1.16\n",
      "    experiment_id: historical\n",
      "    experiment: all-forcing simulation of the recent past\n",
      "    external_variables: areacello\n",
      "    forcing_index: 1\n",
      "    frequency: mon\n",
      "    further_info_url: https://furtherinfo.es-doc.org/CMIP6.IPSL.IPSL-CM5A2-INCA.historical.none.r1i1p1f1\n",
      "    grid: native ocean ORCA2 tripolar primarily 2deg grid\n",
      "    grid_label: gn\n",
      "    nominal_resolution: 250 km\n",
      "    history: none\n",
      "    initialization_index: 1\n",
      "    institution_id: IPSL\n",
      "    institution: Institut Pierre Simon Laplace, Paris 75252, France\n",
      "    license: CMIP6 model data produced by IPSL is licensed under a Creative Commons Attribution-NonCommercial-ShareAlike 4.0 International License (https://creativecommons.org/licenses). Consult https://pcmdi.llnl.gov/CMIP6/TermsOfUse for terms of use governing CMIP6 output, including citation requirements and proper acknowledgment. Further information about this data, including some limitations, can be found via the further_info_url (recorded as a global attribute in this file) and at https://cmc.ipsl.fr/. The data producers and data providers make no warranty, either express or implied, including, but not limited to, warranties of merchantability and fitness for a particular purpose. All liabilities arising from the supply of the information (including any liability arising in negligence) are excluded to the fullest extent permitted by law.\n",
      "    mip_era: CMIP6\n",
      "    parent_experiment_id: piControl\n",
      "    parent_mip_era: CMIP6\n",
      "    parent_source_id: IPSL-CM5A2-INCA\n",
      "    parent_time_units: days since 1850-01-01 00:00:00\n",
      "    parent_variant_label: r1i1p1f1\n",
      "    branch_method: standard\n",
      "    branch_time_in_parent: 7305.0\n",
      "    branch_time_in_child: 0.0\n",
      "    physics_index: 1\n",
      "    product: model-output\n",
      "    realization_index: 1\n",
      "    realm: ocean\n",
      "    source: IPSL-CM5A2-INCA (2019):  aerosol: INCA v6 NMHC-AER-S atmos: LMDZ (APv5; 96 x 96 longitude/latitude; 39 levels; top level 80000 m) atmosChem: INCA v6 NMHC-AER-S land: ORCHIDEE (IPSLCM5A2.1, Water/Carbon/Energy mode) ocean: NEMO-OPA (v3.6, ORCA2 tripolar primarily 2deg; 182 x 149 longitude/latitude; 31 levels; top grid cell 0-10 m) ocnBgchem: NEMO-PISCES seaIce: NEMO-LIM2\n",
      "    source_id: IPSL-CM5A2-INCA\n",
      "    sub_experiment_id: none\n",
      "    sub_experiment: none\n",
      "    table_id: Omon\n",
      "    variable_id: tos\n",
      "    variant_label: r1i1p1f1\n",
      "    EXPID: historical\n",
      "    CMIP6_CV_version: cv=6.2.15.1\n",
      "    dr2xml_md5sum: 26f47747ca6655fa3c2c99c8bbaa27a1\n",
      "    model_version: 2.1\n",
      "    parent_activity_id: CMIP\n",
      "    source_type: AOGCM BGC AER CHEM\n",
      "    dimensions(sizes): axis_nbounds(2), x(182), y(149), nvertex(4), time(1980)\n",
      "    variables(dimensions): float32 nav_lat(y, x), float32 nav_lon(y, x), float32 bounds_nav_lon(y, x, nvertex), float32 bounds_nav_lat(y, x, nvertex), float32 area(y, x), float64 time(time), float64 time_bounds(time, axis_nbounds), float32 tos(time, y, x)\n",
      "    groups: \n"
     ]
    }
   ],
   "source": [
    "from netCDF4 import Dataset\n",
    "\n",
    "mrsofile = '/work/kajiyama/data/cmip6/raw/IPSL-CM5A2-INCA/mrso/mrso_Lmon_IPSL-CM5A2-INCA_historical_r1i1p1f1_gr_185001-201412.nc'\n",
    "sncfile = '/work/kajiyama/data/cmip6/raw/IPSL-CM5A2-INCA/snc/snc_LImon_IPSL-CM5A2-INCA_historical_r1i1p1f1_gr_185001-201412.nc'\n",
    "tslfile = '/work/kajiyama/data/cmip6/raw/IPSL-CM5A2-INCA/tsl/tsl_Lmon_IPSL-CM5A2-INCA_historical_r1i1p1f1_gr_185001-201412.nc'\n",
    "prfile = '/work/kajiyama/data/cmip6/raw/IPSL-CM5A2-INCA/pr/pr_Amon_IPSL-CM5A2-INCA_historical_r1i1p1f1_gr_185001-201412.nc'\n",
    "tosfile = '/work/kajiyama/data/cmip6/raw/IPSL-CM5A2-INCA/tos/tos_Omon_IPSL-CM5A2-INCA_historical_r1i1p1f1_gn_185001-201412.nc'\n",
    "ds = Dataset(tosfile, 'r')\n",
    "print(ds)"
   ]
  },
  {
   "cell_type": "code",
   "execution_count": 14,
   "id": "5f4a9862-e164-44e8-9f4e-ae0e949e4cb1",
   "metadata": {},
   "outputs": [
    {
     "name": "stdout",
     "output_type": "stream",
     "text": [
      "True\n"
     ]
    }
   ],
   "source": [
    "from os.path import exists\n",
    "\n",
    "path = 'tmp_data/tos_Omon_IPSL-CM5A2-INCA_historical_r1i1p1f1_gn_185001-201412.nc'\n",
    "print(exists(path))\n",
    "!ncatted -a coordinates,tos,c,c,\"nv_lon nv_lat\" $path"
   ]
  },
  {
   "cell_type": "code",
   "execution_count": 18,
   "id": "febbbe5a-71ed-477d-af87-7ec5adc075e9",
   "metadata": {},
   "outputs": [
    {
     "ename": "ValueError",
     "evalue": "did not find a match in any of xarray's currently installed IO backends ['netcdf4', 'scipy']. Consider explicitly selecting one of the installed engines via the ``engine`` parameter, or installing additional IO dependencies, see:\nhttps://docs.xarray.dev/en/stable/getting-started-guide/installing.html\nhttps://docs.xarray.dev/en/stable/user-guide/io.html",
     "output_type": "error",
     "traceback": [
      "\u001b[0;31m---------------------------------------------------------------------------\u001b[0m",
      "\u001b[0;31mValueError\u001b[0m                                Traceback (most recent call last)",
      "Cell \u001b[0;32mIn [18], line 14\u001b[0m\n\u001b[1;32m     12\u001b[0m projection \u001b[38;5;241m=\u001b[39m ccrs\u001b[38;5;241m.\u001b[39mPlateCarree(central_longitude\u001b[38;5;241m=\u001b[39m\u001b[38;5;241m180\u001b[39m)\n\u001b[1;32m     13\u001b[0m img_extent \u001b[38;5;241m=\u001b[39m (\u001b[38;5;241m-\u001b[39m\u001b[38;5;241m180\u001b[39m, \u001b[38;5;241m180\u001b[39m, \u001b[38;5;241m-\u001b[39m\u001b[38;5;241m90\u001b[39m, \u001b[38;5;241m90\u001b[39m)\n\u001b[0;32m---> 14\u001b[0m val \u001b[38;5;241m=\u001b[39m \u001b[43mcdo\u001b[49m\u001b[38;5;241;43m.\u001b[39;49m\u001b[43mremapbil\u001b[49m\u001b[43m(\u001b[49m\u001b[38;5;124;43m'\u001b[39;49m\u001b[38;5;124;43mglobal_1\u001b[39;49m\u001b[38;5;124;43m'\u001b[39;49m\u001b[43m,\u001b[49m\u001b[43m \u001b[49m\u001b[38;5;28;43minput\u001b[39;49m\u001b[38;5;241;43m=\u001b[39;49m\u001b[38;5;124;43mf\u001b[39;49m\u001b[38;5;124;43m'\u001b[39;49m\u001b[38;5;124;43m-seltimestep,1 \u001b[39;49m\u001b[38;5;124;43m'\u001b[39;49m\u001b[38;5;241;43m+\u001b[39;49m\u001b[43minfile\u001b[49m\u001b[43m,\u001b[49m\u001b[43m \u001b[49m\u001b[43mreturnXArray\u001b[49m\u001b[38;5;241;43m=\u001b[39;49m\u001b[43mvariable\u001b[49m\u001b[43m)\u001b[49m\n\u001b[1;32m     15\u001b[0m \u001b[38;5;28;01mif\u001b[39;00m variable \u001b[38;5;241m==\u001b[39m \u001b[38;5;124m'\u001b[39m\u001b[38;5;124mtsl\u001b[39m\u001b[38;5;124m'\u001b[39m:\n\u001b[1;32m     16\u001b[0m     data \u001b[38;5;241m=\u001b[39m np\u001b[38;5;241m.\u001b[39mmean(val, axis\u001b[38;5;241m=\u001b[39m\u001b[38;5;241m1\u001b[39m)\u001b[38;5;241m.\u001b[39mplot(subplot_kws\u001b[38;5;241m=\u001b[39m\u001b[38;5;28mdict\u001b[39m(projection\u001b[38;5;241m=\u001b[39mprojection, facecolor\u001b[38;5;241m=\u001b[39m\u001b[38;5;124m'\u001b[39m\u001b[38;5;124mgray\u001b[39m\u001b[38;5;124m'\u001b[39m),\n\u001b[1;32m     17\u001b[0m                     transform\u001b[38;5;241m=\u001b[39mprojection)\n",
      "File \u001b[0;32m~/downloads/miniconda3/envs/jupyter39/lib/python3.9/site-packages/cdo.py:575\u001b[0m, in \u001b[0;36mCdo.__call__\u001b[0;34m(self, *args, **kwargs)\u001b[0m\n\u001b[1;32m    573\u001b[0m   \u001b[38;5;28;01mreturn\u001b[39;00m \u001b[38;5;28mself\u001b[39m\u001b[38;5;241m.\u001b[39mreadMaArray(outputs[\u001b[38;5;241m0\u001b[39m], kwargs[\u001b[38;5;124m\"\u001b[39m\u001b[38;5;124mreturnMaArray\u001b[39m\u001b[38;5;124m\"\u001b[39m])\n\u001b[1;32m    574\u001b[0m \u001b[38;5;28;01melif\u001b[39;00m \u001b[38;5;28;01mNone\u001b[39;00m \u001b[38;5;241m!=\u001b[39m kwargs\u001b[38;5;241m.\u001b[39mget(\u001b[38;5;124m\"\u001b[39m\u001b[38;5;124mreturnXArray\u001b[39m\u001b[38;5;124m\"\u001b[39m):\n\u001b[0;32m--> 575\u001b[0m   \u001b[38;5;28;01mreturn\u001b[39;00m \u001b[38;5;28;43mself\u001b[39;49m\u001b[38;5;241;43m.\u001b[39;49m\u001b[43mreadXArray\u001b[49m\u001b[43m(\u001b[49m\u001b[43moutputs\u001b[49m\u001b[43m[\u001b[49m\u001b[38;5;241;43m0\u001b[39;49m\u001b[43m]\u001b[49m\u001b[43m,\u001b[49m\u001b[43m \u001b[49m\u001b[43mkwargs\u001b[49m\u001b[38;5;241;43m.\u001b[39;49m\u001b[43mget\u001b[49m\u001b[43m(\u001b[49m\u001b[38;5;124;43m\"\u001b[39;49m\u001b[38;5;124;43mreturnXArray\u001b[39;49m\u001b[38;5;124;43m\"\u001b[39;49m\u001b[43m)\u001b[49m\u001b[43m)\u001b[49m\n\u001b[1;32m    577\u001b[0m \u001b[38;5;66;03m# return files handles (or lists of them)\u001b[39;00m\n\u001b[1;32m    578\u001b[0m \u001b[38;5;28;01melif\u001b[39;00m kwargs[\u001b[38;5;124m\"\u001b[39m\u001b[38;5;124mreturnCdf\u001b[39m\u001b[38;5;124m\"\u001b[39m]:\n",
      "File \u001b[0;32m~/downloads/miniconda3/envs/jupyter39/lib/python3.9/site-packages/cdo.py:771\u001b[0m, in \u001b[0;36mCdo.readXArray\u001b[0;34m(self, ifile, varname)\u001b[0m\n\u001b[1;32m    768\u001b[0m   \u001b[38;5;28mprint\u001b[39m(\u001b[38;5;124m\"\u001b[39m\u001b[38;5;124mCould not load XArray\u001b[39m\u001b[38;5;124m\"\u001b[39m)\n\u001b[1;32m    769\u001b[0m   six\u001b[38;5;241m.\u001b[39mraise_from(\u001b[38;5;167;01mImportError\u001b[39;00m,\u001b[38;5;28;01mNone\u001b[39;00m)\n\u001b[0;32m--> 771\u001b[0m dataSet \u001b[38;5;241m=\u001b[39m \u001b[38;5;28;43mself\u001b[39;49m\u001b[38;5;241;43m.\u001b[39;49m\u001b[43mxa_open\u001b[49m\u001b[43m(\u001b[49m\u001b[43mifile\u001b[49m\u001b[43m)\u001b[49m\n\u001b[1;32m    772\u001b[0m \u001b[38;5;28;01mtry\u001b[39;00m:\n\u001b[1;32m    773\u001b[0m   \u001b[38;5;28;01mreturn\u001b[39;00m dataSet[varname]\n",
      "File \u001b[0;32m~/downloads/miniconda3/envs/jupyter39/lib/python3.9/site-packages/xarray/backends/api.py:523\u001b[0m, in \u001b[0;36mopen_dataset\u001b[0;34m(filename_or_obj, engine, chunks, cache, decode_cf, mask_and_scale, decode_times, decode_timedelta, use_cftime, concat_characters, decode_coords, drop_variables, inline_array, backend_kwargs, **kwargs)\u001b[0m\n\u001b[1;32m    520\u001b[0m     kwargs\u001b[38;5;241m.\u001b[39mupdate(backend_kwargs)\n\u001b[1;32m    522\u001b[0m \u001b[38;5;28;01mif\u001b[39;00m engine \u001b[38;5;129;01mis\u001b[39;00m \u001b[38;5;28;01mNone\u001b[39;00m:\n\u001b[0;32m--> 523\u001b[0m     engine \u001b[38;5;241m=\u001b[39m \u001b[43mplugins\u001b[49m\u001b[38;5;241;43m.\u001b[39;49m\u001b[43mguess_engine\u001b[49m\u001b[43m(\u001b[49m\u001b[43mfilename_or_obj\u001b[49m\u001b[43m)\u001b[49m\n\u001b[1;32m    525\u001b[0m backend \u001b[38;5;241m=\u001b[39m plugins\u001b[38;5;241m.\u001b[39mget_backend(engine)\n\u001b[1;32m    527\u001b[0m decoders \u001b[38;5;241m=\u001b[39m _resolve_decoders_kwargs(\n\u001b[1;32m    528\u001b[0m     decode_cf,\n\u001b[1;32m    529\u001b[0m     open_backend_dataset_parameters\u001b[38;5;241m=\u001b[39mbackend\u001b[38;5;241m.\u001b[39mopen_dataset_parameters,\n\u001b[0;32m   (...)\u001b[0m\n\u001b[1;32m    535\u001b[0m     decode_coords\u001b[38;5;241m=\u001b[39mdecode_coords,\n\u001b[1;32m    536\u001b[0m )\n",
      "File \u001b[0;32m~/downloads/miniconda3/envs/jupyter39/lib/python3.9/site-packages/xarray/backends/plugins.py:177\u001b[0m, in \u001b[0;36mguess_engine\u001b[0;34m(store_spec)\u001b[0m\n\u001b[1;32m    169\u001b[0m \u001b[38;5;28;01melse\u001b[39;00m:\n\u001b[1;32m    170\u001b[0m     error_msg \u001b[38;5;241m=\u001b[39m (\n\u001b[1;32m    171\u001b[0m         \u001b[38;5;124m\"\u001b[39m\u001b[38;5;124mfound the following matches with the input file in xarray\u001b[39m\u001b[38;5;124m'\u001b[39m\u001b[38;5;124ms IO \u001b[39m\u001b[38;5;124m\"\u001b[39m\n\u001b[1;32m    172\u001b[0m         \u001b[38;5;124mf\u001b[39m\u001b[38;5;124m\"\u001b[39m\u001b[38;5;124mbackends: \u001b[39m\u001b[38;5;132;01m{\u001b[39;00mcompatible_engines\u001b[38;5;132;01m}\u001b[39;00m\u001b[38;5;124m. But their dependencies may not be installed, see:\u001b[39m\u001b[38;5;130;01m\\n\u001b[39;00m\u001b[38;5;124m\"\u001b[39m\n\u001b[1;32m    173\u001b[0m         \u001b[38;5;124m\"\u001b[39m\u001b[38;5;124mhttps://docs.xarray.dev/en/stable/user-guide/io.html \u001b[39m\u001b[38;5;130;01m\\n\u001b[39;00m\u001b[38;5;124m\"\u001b[39m\n\u001b[1;32m    174\u001b[0m         \u001b[38;5;124m\"\u001b[39m\u001b[38;5;124mhttps://docs.xarray.dev/en/stable/getting-started-guide/installing.html\u001b[39m\u001b[38;5;124m\"\u001b[39m\n\u001b[1;32m    175\u001b[0m     )\n\u001b[0;32m--> 177\u001b[0m \u001b[38;5;28;01mraise\u001b[39;00m \u001b[38;5;167;01mValueError\u001b[39;00m(error_msg)\n",
      "\u001b[0;31mValueError\u001b[0m: did not find a match in any of xarray's currently installed IO backends ['netcdf4', 'scipy']. Consider explicitly selecting one of the installed engines via the ``engine`` parameter, or installing additional IO dependencies, see:\nhttps://docs.xarray.dev/en/stable/getting-started-guide/installing.html\nhttps://docs.xarray.dev/en/stable/user-guide/io.html"
     ]
    }
   ],
   "source": [
    "from cdo import Cdo\n",
    "import cartopy.crs as ccrs\n",
    "import matplotlib.pyplot as plt\n",
    "import xarray\n",
    "import numpy as np\n",
    "\n",
    "infile = 'tmp_data/tos_data.nc'\n",
    "variable = 'tos'\n",
    "\n",
    "infile = 'tmp_data/tos_data.nc'\n",
    "cdo = Cdo()\n",
    "projection = ccrs.PlateCarree(central_longitude=180)\n",
    "img_extent = (-180, 180, -90, 90)\n",
    "val = cdo.remapbil('global_1', input=f'-seltimestep,1 '+infile, returnXArray=variable)\n",
    "if variable == 'tsl':\n",
    "    data = np.mean(val, axis=1).plot(subplot_kws=dict(projection=projection, facecolor='gray'),\n",
    "                    transform=projection)\n",
    "else:   \n",
    "    data = val.plot(subplot_kws=dict(projection=projection, facecolor='gray'),\n",
    "                    transform=projection)\n",
    "data.axes.coastlines()\n",
    "plt.show() "
   ]
  },
  {
   "cell_type": "code",
   "execution_count": null,
   "id": "c3ba3446-ee0c-4b49-a68b-8a3c30390a5e",
   "metadata": {},
   "outputs": [],
   "source": []
  }
 ],
 "metadata": {
  "kernelspec": {
   "display_name": "Python 3 (ipykernel)",
   "language": "python",
   "name": "python3"
  },
  "language_info": {
   "codemirror_mode": {
    "name": "ipython",
    "version": 3
   },
   "file_extension": ".py",
   "mimetype": "text/x-python",
   "name": "python",
   "nbconvert_exporter": "python",
   "pygments_lexer": "ipython3",
   "version": "3.9.0"
  }
 },
 "nbformat": 4,
 "nbformat_minor": 5
}
