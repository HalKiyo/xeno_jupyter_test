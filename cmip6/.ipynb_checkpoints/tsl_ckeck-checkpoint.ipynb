{
 "cells": [
  {
   "cell_type": "code",
   "execution_count": 1,
   "id": "2b629d70-1102-4c10-b554-6e6cf6466dc3",
   "metadata": {},
   "outputs": [],
   "source": [
    "from netCDF4 import Dataset"
   ]
  },
  {
   "cell_type": "code",
   "execution_count": 16,
   "id": "54a9753c-1d66-4921-9cd1-71433e95b770",
   "metadata": {},
   "outputs": [],
   "source": [
    "def info(model, variable, realm, experiment, grid, begin, end):\n",
    "    datadir = f\"/work/kajiyama/data/cmip6/raw/{model}/{variable}\"\n",
    "    loadname = f\"/{variable}_{realm}_{model}_historical_{experiment}_{grid}_{begin}01-{end}12.nc\"\n",
    "    ds = Dataset(datadir+loadname, 'r')\n",
    "    return ds"
   ]
  },
  {
   "cell_type": "code",
   "execution_count": 17,
   "id": "864d0ea9-6ef9-4186-b0b1-4b1837637bf2",
   "metadata": {},
   "outputs": [],
   "source": [
    "def load(model, variable, realm, experiment, grid, begin, end, dimension):\n",
    "    datadir = f\"/work/kajiyama/data/cmip6/raw/{model}/{variable}\"\n",
    "    loadname = f\"/{variable}_{realm}_{model}_historical_{experiment}_{grid}_{begin}01-{end}12.nc\"\n",
    "    ds = Dataset(datadir+loadname, 'r')\n",
    "    val = ds.variables[dimension]\n",
    "    return val"
   ]
  },
  {
   "cell_type": "code",
   "execution_count": 18,
   "id": "03c2e7b9-6474-404b-a09d-e2404153457d",
   "metadata": {},
   "outputs": [
    {
     "name": "stdout",
     "output_type": "stream",
     "text": [
      "[0.03 0.19 0.78 2.68 6.98]\n"
     ]
    }
   ],
   "source": [
    "val = load('AWI-ESM-1-1-LR', 'tsl', 'Lmon', 'r1i1p1f1', 'gn', 1850, 1850, 'depth')\n",
    "print(val[:])"
   ]
  },
  {
   "cell_type": "code",
   "execution_count": 19,
   "id": "72a3f59f-7c39-47e4-b949-db9e682b8824",
   "metadata": {},
   "outputs": [
    {
     "ename": "FileNotFoundError",
     "evalue": "[Errno 2] No such file or directory: b'/work/kajiyama/data/cmip6/raw/CAS-ESM2-0/tsl/tsl_Lmon_CAS-ESM2-0_historical_r1i1p1f1_gn_185001-185012.nc'",
     "output_type": "error",
     "traceback": [
      "\u001b[0;31m---------------------------------------------------------------------------\u001b[0m",
      "\u001b[0;31mFileNotFoundError\u001b[0m                         Traceback (most recent call last)",
      "Cell \u001b[0;32mIn [19], line 1\u001b[0m\n\u001b[0;32m----> 1\u001b[0m val \u001b[38;5;241m=\u001b[39m \u001b[43mload\u001b[49m\u001b[43m(\u001b[49m\u001b[38;5;124;43m'\u001b[39;49m\u001b[38;5;124;43mCAS-ESM2-0\u001b[39;49m\u001b[38;5;124;43m'\u001b[39;49m\u001b[43m,\u001b[49m\u001b[43m \u001b[49m\u001b[38;5;124;43m'\u001b[39;49m\u001b[38;5;124;43mtsl\u001b[39;49m\u001b[38;5;124;43m'\u001b[39;49m\u001b[43m,\u001b[49m\u001b[43m \u001b[49m\u001b[38;5;124;43m'\u001b[39;49m\u001b[38;5;124;43mLmon\u001b[39;49m\u001b[38;5;124;43m'\u001b[39;49m\u001b[43m,\u001b[49m\u001b[43m \u001b[49m\u001b[38;5;124;43m'\u001b[39;49m\u001b[38;5;124;43mr1i1p1f1\u001b[39;49m\u001b[38;5;124;43m'\u001b[39;49m\u001b[43m,\u001b[49m\u001b[43m \u001b[49m\u001b[38;5;124;43m'\u001b[39;49m\u001b[38;5;124;43mgn\u001b[39;49m\u001b[38;5;124;43m'\u001b[39;49m\u001b[43m,\u001b[49m\u001b[43m \u001b[49m\u001b[38;5;241;43m1850\u001b[39;49m\u001b[43m,\u001b[49m\u001b[43m \u001b[49m\u001b[38;5;241;43m1850\u001b[39;49m\u001b[43m,\u001b[49m\u001b[43m \u001b[49m\u001b[38;5;124;43m'\u001b[39;49m\u001b[38;5;124;43mdepth\u001b[39;49m\u001b[38;5;124;43m'\u001b[39;49m\u001b[43m)\u001b[49m\n\u001b[1;32m      2\u001b[0m \u001b[38;5;28mprint\u001b[39m(val[:])\n",
      "Cell \u001b[0;32mIn [17], line 4\u001b[0m, in \u001b[0;36mload\u001b[0;34m(model, variable, realm, experiment, grid, begin, end, dimension)\u001b[0m\n\u001b[1;32m      2\u001b[0m datadir \u001b[38;5;241m=\u001b[39m \u001b[38;5;124mf\u001b[39m\u001b[38;5;124m\"\u001b[39m\u001b[38;5;124m/work/kajiyama/data/cmip6/raw/\u001b[39m\u001b[38;5;132;01m{\u001b[39;00mmodel\u001b[38;5;132;01m}\u001b[39;00m\u001b[38;5;124m/\u001b[39m\u001b[38;5;132;01m{\u001b[39;00mvariable\u001b[38;5;132;01m}\u001b[39;00m\u001b[38;5;124m\"\u001b[39m\n\u001b[1;32m      3\u001b[0m loadname \u001b[38;5;241m=\u001b[39m \u001b[38;5;124mf\u001b[39m\u001b[38;5;124m\"\u001b[39m\u001b[38;5;124m/\u001b[39m\u001b[38;5;132;01m{\u001b[39;00mvariable\u001b[38;5;132;01m}\u001b[39;00m\u001b[38;5;124m_\u001b[39m\u001b[38;5;132;01m{\u001b[39;00mrealm\u001b[38;5;132;01m}\u001b[39;00m\u001b[38;5;124m_\u001b[39m\u001b[38;5;132;01m{\u001b[39;00mmodel\u001b[38;5;132;01m}\u001b[39;00m\u001b[38;5;124m_historical_\u001b[39m\u001b[38;5;132;01m{\u001b[39;00mexperiment\u001b[38;5;132;01m}\u001b[39;00m\u001b[38;5;124m_\u001b[39m\u001b[38;5;132;01m{\u001b[39;00mgrid\u001b[38;5;132;01m}\u001b[39;00m\u001b[38;5;124m_\u001b[39m\u001b[38;5;132;01m{\u001b[39;00mbegin\u001b[38;5;132;01m}\u001b[39;00m\u001b[38;5;124m01-\u001b[39m\u001b[38;5;132;01m{\u001b[39;00mend\u001b[38;5;132;01m}\u001b[39;00m\u001b[38;5;124m12.nc\u001b[39m\u001b[38;5;124m\"\u001b[39m\n\u001b[0;32m----> 4\u001b[0m ds \u001b[38;5;241m=\u001b[39m \u001b[43mDataset\u001b[49m\u001b[43m(\u001b[49m\u001b[43mdatadir\u001b[49m\u001b[38;5;241;43m+\u001b[39;49m\u001b[43mloadname\u001b[49m\u001b[43m,\u001b[49m\u001b[43m \u001b[49m\u001b[38;5;124;43m'\u001b[39;49m\u001b[38;5;124;43mr\u001b[39;49m\u001b[38;5;124;43m'\u001b[39;49m\u001b[43m)\u001b[49m\n\u001b[1;32m      5\u001b[0m val \u001b[38;5;241m=\u001b[39m ds\u001b[38;5;241m.\u001b[39mvariables[dimension]\n\u001b[1;32m      6\u001b[0m \u001b[38;5;28;01mreturn\u001b[39;00m val\n",
      "File \u001b[0;32msrc/netCDF4/_netCDF4.pyx:2353\u001b[0m, in \u001b[0;36mnetCDF4._netCDF4.Dataset.__init__\u001b[0;34m()\u001b[0m\n",
      "File \u001b[0;32msrc/netCDF4/_netCDF4.pyx:1963\u001b[0m, in \u001b[0;36mnetCDF4._netCDF4._ensure_nc_success\u001b[0;34m()\u001b[0m\n",
      "\u001b[0;31mFileNotFoundError\u001b[0m: [Errno 2] No such file or directory: b'/work/kajiyama/data/cmip6/raw/CAS-ESM2-0/tsl/tsl_Lmon_CAS-ESM2-0_historical_r1i1p1f1_gn_185001-185012.nc'"
     ]
    }
   ],
   "source": [
    "val = load('CAS-ESM2-0', 'tsl', 'Lmon', 'r1i1p1f1', 'gn', 1850, 1899, 'depth')\n",
    "print(val[:])"
   ]
  },
  {
   "cell_type": "code",
   "execution_count": null,
   "id": "01fb14ea-0009-4443-be90-bc55e67fd8de",
   "metadata": {},
   "outputs": [],
   "source": []
  }
 ],
 "metadata": {
  "kernelspec": {
   "display_name": "Python 3 (ipykernel)",
   "language": "python",
   "name": "python3"
  },
  "language_info": {
   "codemirror_mode": {
    "name": "ipython",
    "version": 3
   },
   "file_extension": ".py",
   "mimetype": "text/x-python",
   "name": "python",
   "nbconvert_exporter": "python",
   "pygments_lexer": "ipython3",
   "version": "3.9.0"
  }
 },
 "nbformat": 4,
 "nbformat_minor": 5
}
