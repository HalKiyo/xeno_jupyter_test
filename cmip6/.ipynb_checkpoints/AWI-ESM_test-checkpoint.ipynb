{
 "cells": [
  {
   "cell_type": "code",
   "execution_count": 10,
   "id": "680163ac-c905-4543-a213-6c1202af2fa8",
   "metadata": {},
   "outputs": [
    {
     "name": "stdout",
     "output_type": "stream",
     "text": [
      "<class 'netCDF4._netCDF4.Dataset'>\n",
      "root group (NETCDF4_CLASSIC data model, file format HDF5):\n",
      "    CDI_grid_type: unstructured\n",
      "    CDO: Climate Data Operators version 2.0.0rc5 (https://mpimet.mpg.de/cdo)\n",
      "    Conventions: CF-1.7 CMIP-6.2\n",
      "    activity_id: CMIP\n",
      "    branch_method: standard\n",
      "    branch_time_in_child: 0.0\n",
      "    branch_time_in_parent: 0.0\n",
      "    contact: cmip6-mpi-esm@dkrz.de\n",
      "    creation_date: 2021-10-06T10:41:40Z\n",
      "    data_specs_version: 01.00.30\n",
      "    experiment: all-forcing simulation of the recent past\n",
      "    experiment_id: historical\n",
      "    external_variables: areacella\n",
      "    forcing_index: 1\n",
      "    frequency: mon\n",
      "    further_info_url: https://furtherinfo.es-doc.org/CMIP6.MPI-M.ICON-ESM-LR.historical.none.r1i1p1f1\n",
      "    grid: gn\n",
      "    grid_label: gn\n",
      "    grid_type: unstructured\n",
      "    history: 2021-10-06T10:41:40Z ; CMOR rewrote data to be consistent with CMIP6, CF-1.7 CMIP-6.2 and CF standards.\n",
      "    initialization_index: 1\n",
      "    institution: Max Planck Institute for Meteorology, Hamburg 20146, Germany\n",
      "    institution_id: MPI-M\n",
      "    mip_era: CMIP6\n",
      "    nominal_resolution: 250 km\n",
      "    parent_activity_id: CMIP\n",
      "    parent_experiment_id: piControl\n",
      "    parent_mip_era: CMIP6\n",
      "    parent_source_id: ICON-ESM-LR\n",
      "    parent_time_units: days since 4000-01-01 00:00:00\n",
      "    parent_variant_label: r1i1p1f1\n",
      "    physics_index: 1\n",
      "    product: model-output\n",
      "    project_id: CMIP6\n",
      "    realization_index: 1\n",
      "    realm: land\n",
      "    references: Giorgetta, M. A. et al. (2018). ICON‐A, the atmosphere component of the ICON Earth system model: I. Model description. J. Adv. Model. Earth Syst., 10, 1613-1637. doi:10.1029/2017MS001242\n",
      "    source: ICON-ESM-LR (2017): \n",
      "aerosol: none, prescribed MACv2-SP\n",
      "atmos: ICON-A (icosahedral/triangles; 160 km; 47 levels; top level 80 km)\n",
      "atmosChem: none\n",
      "land: JSBACH4.20\n",
      "landIce: none/prescribed\n",
      "ocean: ICON-O (icosahedral/triangles; 40 km; 40 levels; top grid cell 0-12 m)\n",
      "ocnBgchem: HAMOCC\n",
      "seaIce: unnamed (thermodynamic (Semtner zero-layer) dynamic (Hibler 79) sea ice model)\n",
      "    source_id: ICON-ESM-LR\n",
      "    source_type: AOGCM\n",
      "    sub_experiment: none\n",
      "    sub_experiment_id: none\n",
      "    table_id: Lmon\n",
      "    table_info: Creation Date:(09 May 2019) MD5:5f007c16960eee824e07a4ce809e3ed1\n",
      "    title: ICON-ESM-LR output prepared for CMIP6\n",
      "    variable_id: mrso\n",
      "    variant_label: r1i1p1f1\n",
      "    license: CMIP6 model data produced by MPI-M is licensed under a Creative Commons Attribution ShareAlike 4.0 International License (https://creativecommons.org/licenses). Consult https://pcmdi.llnl.gov/CMIP6/TermsOfUse for terms of use governing CMIP6 output, including citation requirements and proper acknowledgment. Further information about this data, including some limitations, can be found via the further_info_url (recorded as a global attribute in this file) and. The data producers and data providers make no warranty, either express or implied, including, but not limited to, warranties of merchantability and fitness for a particular purpose. All liabilities arising from the supply of the information (including any liability arising in negligence) are excluded to the fullest extent permitted by law.\n",
      "    cmor_version: 3.6.0\n",
      "    tracking_id: hdl:21.14100/1be9fb0b-ec1b-4a40-b476-69809ac9e5e8\n",
      "    dimensions(sizes): time(120), i(20480), bnds(2), vertices(3)\n",
      "    variables(dimensions): float64 time(time), float64 time_bnds(time, bnds), int32 i(i), float64 latitude(i), float64 longitude(i), float64 vertices_latitude(i, vertices), float64 vertices_longitude(i, vertices), float32 mrso(time, i)\n",
      "    groups: \n"
     ]
    }
   ],
   "source": [
    "from netCDF4 import Dataset\n",
    "\n",
    "mrsofile = '/work/kajiyama/data/cmip6/raw/ICON-ESM-LR/mrso/mrso_Lmon_ICON-ESM-LR_historical_r1i1p1f1_gn_185001-185912.nc'\n",
    "sncfile = '/work/kajiyama/data/cmip6/raw/ICON-ESM-LR/snc/snc_LImon_ICON-ESM-LR_historical_r1i1p1f1_gn_185001-185912.nc'\n",
    "tslfile = '/work/kajiyama/data/cmip6/raw/ICON-ESM-LR/tsl/tsl_Lmon_ICON-ESM-LR_historical_r1i1p1f1_gn_185001-185912.nc'\n",
    "prfile = '/work/kajiyama/data/cmip6/raw/ICON-ESM-LR/pr/pr_Amon_ICON-ESM-LR_historical_r1i1p1f1_gn_185001-185912.nc'\n",
    "tosfile = '/work/kajiyama/data/cmip6/raw/ICON-ESM-LR/tos/tos_Omon_ICON-ESM-LR_historical_r1i1p1f1_gn_185001-185912.nc'\n",
    "ds = Dataset(mrsofile, 'r')\n",
    "print(ds)"
   ]
  },
  {
   "cell_type": "code",
   "execution_count": null,
   "id": "e0f5c027-c8d4-45c0-84b0-18958dacd58c",
   "metadata": {},
   "outputs": [],
   "source": [
    "from cdo import Cdo\n",
    "\n",
    "cdo = Cdo()\n",
    "cdo.remapycon('global_1', input=f'-seltimestep,1/(time_length) -selvar,tos '+infile, output=outfile)"
   ]
  }
 ],
 "metadata": {
  "kernelspec": {
   "display_name": "Python 3 (ipykernel)",
   "language": "python",
   "name": "python3"
  },
  "language_info": {
   "codemirror_mode": {
    "name": "ipython",
    "version": 3
   },
   "file_extension": ".py",
   "mimetype": "text/x-python",
   "name": "python",
   "nbconvert_exporter": "python",
   "pygments_lexer": "ipython3",
   "version": "3.9.0"
  }
 },
 "nbformat": 4,
 "nbformat_minor": 5
}
