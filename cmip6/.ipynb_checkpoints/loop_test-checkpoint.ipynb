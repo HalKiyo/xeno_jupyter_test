{
 "cells": [
  {
   "cell_type": "code",
   "execution_count": 1,
   "id": "10b5c34b-079a-4020-8ff2-312587462911",
   "metadata": {},
   "outputs": [],
   "source": [
    "import numpy as np\n",
    "import numpy.ma as ma\n",
    "from netCDF4 import Dataset"
   ]
  },
  {
   "cell_type": "code",
   "execution_count": 4,
   "id": "9c83fbac-d51c-4456-9522-691ee4432011",
   "metadata": {},
   "outputs": [],
   "source": [
    "class preprocess():\n",
    "    def __init__(self, model, variable, timestep_loop, \n",
    "                 first_begin, first_end, last_begin, last_end, start_loop, stop_loop):\n",
    "        self.model = model\n",
    "        self.variable = variable\n",
    "        self.timestep_loop = timestep_loop\n",
    "        self.first_begin, self.first_end = first_begin, first_end\n",
    "        self.last_begin, self.last_end = last_begin, last_end\n",
    "        self.start_loop, self.stop_loop = start_loop, stop_loop\n",
    "\n",
    "        self.ulim, self.llim = 30, -30 # upper and lower limits of latitude\n",
    "        self.lt, self.ln = 120, 360 # grid number of latitude and longitude \n",
    "        self.upscale_rate = 5 # from 1x1 to 5x5\n",
    "        self.data_num= 12*self.timestep_loop # number of data in one file\n",
    "        self.first_data_num = 12*(self.first_end - self.first_begin + 1)\n",
    "        self.last_data_num = 12*(self.last_end - self.last_begin + 1)\n",
    "        self.loopyr = (self.stop_loop - self.start_loop)/self.timestep_loop\n",
    "        self.tm = int(self.data_num*self.loopyr+self.first_data_num+self.last_data_num) # number of all data\n",
    "\n",
    "        self.datadir = f\"/work/kajiyama/cdo/cmip6/{self.model}/{self.variable}\"\n",
    "        self.first_file = f\"{self.datadir}/{self.variable}_{self.first_begin}-{self.first_end}.nc\"\n",
    "        self.last_file = f\"{self.datadir}/{self.variable}_{self.last_begin}-{self.last_end}.nc\"\n",
    "        self.save_file = f\"/work/kajiyama/preprocessed/cmip6/{self.model}\" \\\n",
    "                         f\"/{self.variable}_{self.model}.pickle\"\n",
    "        \n",
    "    def make_val(self, conc_flag, first_flag=True, loop_flag=True, last_flag=True):\n",
    "        # making empty box for save file\n",
    "        val = np.empty((self.tm, self.lt, self.ln))\n",
    "\n",
    "        # first netCDF4 files\n",
    "        if first_flag is True:\n",
    "            val[:self.first_data_num, :, :] = self._fill(\n",
    "                    self._load_val(self.first_file, self.first_data_num, conc_flag))\n",
    "\n",
    "        # middle netcdf4 files\n",
    "        # time augument count\n",
    "        if loop_flag is True:\n",
    "            ind = self.data_num \n",
    "            #\n",
    "            for i in range(self.start_loop, self.stop_loop+1, self.timestep_loop):\n",
    "                # \n",
    "                file = f\"{self.datadir}/{self.variable}_{i}-{i+self.timestep_loop-1}.nc\"\n",
    "                val[(self.first_data_num + ind - self.data_num):(self.first_data_num + ind),:,:] = self._fill(\n",
    "                        self._load_val(file, self.data_num, conc_flag))\n",
    "                ind += self.data_num\n",
    "                print(i, i+self.timestep_loop-1)\n",
    "\n",
    "        # last netcdf4 files\n",
    "        if last_flag is True:\n",
    "            val[-self.last_data_num:, :, :] = self._fill(\n",
    "                    self._load_val(self.last_file, self.last_data_num, conc_flag))\n",
    "            val = self._mask(val)\n",
    "            return val\n",
    "\n",
    "    def _fill(self, x):\n",
    "        f = ma.filled(x,fill_value=99999)\n",
    "        return f\n",
    "\n",
    "    def _mask(self, x):\n",
    "        m = ma.masked_where(x>9999, x)\n",
    "        return m\n",
    "\n",
    "    def _conc(self, x):\n",
    "        c = x.copy()\n",
    "        c = self._fill(c)\n",
    "        x1, x2 = c[:,:,-180:], c[:,:,:180]\n",
    "        c = np.concatenate([x1,x2],2)\n",
    "        c = self._mask(c)\n",
    "\n",
    "        return c\n",
    "\n",
    "    def _load_val(self, file, data_num, conc_flag=True):\n",
    "        ds = Dataset(file, 'r')\n",
    "        val = ds.variables[self.variable][:]\n",
    "        val = val[:data_num, ::-1, :]\n",
    "        if conc_flag is True:\n",
    "            val = self._conc(val[:,self.ulim:self.llim,:])\n",
    "        else:\n",
    "            val = val[:, self.ulim:self.llim, :]\n",
    "        return val"
   ]
  },
  {
   "cell_type": "code",
   "execution_count": 16,
   "id": "00508e75-4118-405f-9481-7036ddfc3eb1",
   "metadata": {},
   "outputs": [],
   "source": [
    "def main():\n",
    "    save_flag = False\n",
    "    conc_flag = True\n",
    "    first_flag = True\n",
    "    loop_flag = False\n",
    "    last_flag = False\n",
    "    reverse_flag = False\n",
    "    model = 'BCC-CSM2-MR'\n",
    "    variable = 'tos'\n",
    "    first_begin, first_end = 1850, 2014\n",
    "    last_begin, last_end = 99999, 99999\n",
    "    # if no loop is required, edit like start_loop=stop_loop=1851 and timestep_loop > 0\n",
    "    start_loop, stop_loop = 99999, 99999\n",
    "    timestep_loop = 99999\n",
    "\n",
    "    pre = preprocess(model, variable, timestep_loop, \n",
    "                     first_begin, first_end, last_begin, last_end, start_loop, stop_loop)\n",
    "\n",
    "    tos = pre.make_val(conc_flag=conc_flag)"
   ]
  },
  {
   "cell_type": "code",
   "execution_count": 17,
   "id": "e824968a-0137-4135-a867-f5eab89adf8e",
   "metadata": {},
   "outputs": [
    {
     "ename": "FileNotFoundError",
     "evalue": "[Errno 2] No such file or directory: b'/work/kajiyama/cdo/cmip6/BCC-CSM2-MR/tos/tos_1851-1851.nc'",
     "output_type": "error",
     "traceback": [
      "\u001b[0;31m---------------------------------------------------------------------------\u001b[0m",
      "\u001b[0;31mFileNotFoundError\u001b[0m                         Traceback (most recent call last)",
      "Input \u001b[0;32mIn [17]\u001b[0m, in \u001b[0;36m<cell line: 1>\u001b[0;34m()\u001b[0m\n\u001b[0;32m----> 1\u001b[0m \u001b[43mmain\u001b[49m\u001b[43m(\u001b[49m\u001b[43m)\u001b[49m\n",
      "Input \u001b[0;32mIn [16]\u001b[0m, in \u001b[0;36mmain\u001b[0;34m()\u001b[0m\n\u001b[1;32m     11\u001b[0m timestep_loop \u001b[38;5;241m=\u001b[39m \u001b[38;5;241m1\u001b[39m\n\u001b[1;32m     13\u001b[0m pre \u001b[38;5;241m=\u001b[39m preprocess(model, variable, timestep_loop, \n\u001b[1;32m     14\u001b[0m                  first_begin, first_end, last_begin, last_end, start_loop, stop_loop)\n\u001b[0;32m---> 16\u001b[0m tos \u001b[38;5;241m=\u001b[39m \u001b[43mpre\u001b[49m\u001b[38;5;241;43m.\u001b[39;49m\u001b[43mmake_val\u001b[49m\u001b[43m(\u001b[49m\u001b[43mconc_flag\u001b[49m\u001b[38;5;241;43m=\u001b[39;49m\u001b[43mconc_flag\u001b[49m\u001b[43m)\u001b[49m\n",
      "Input \u001b[0;32mIn [15]\u001b[0m, in \u001b[0;36mpreprocess.make_val\u001b[0;34m(self, conc_flag)\u001b[0m\n\u001b[1;32m     38\u001b[0m \u001b[38;5;28;01mfor\u001b[39;00m i \u001b[38;5;129;01min\u001b[39;00m \u001b[38;5;28mrange\u001b[39m(\u001b[38;5;28mself\u001b[39m\u001b[38;5;241m.\u001b[39mstart_loop, \u001b[38;5;28mself\u001b[39m\u001b[38;5;241m.\u001b[39mstop_loop\u001b[38;5;241m+\u001b[39m\u001b[38;5;241m1\u001b[39m, \u001b[38;5;28mself\u001b[39m\u001b[38;5;241m.\u001b[39mtimestep_loop):\n\u001b[1;32m     39\u001b[0m     \u001b[38;5;66;03m# \u001b[39;00m\n\u001b[1;32m     40\u001b[0m     file \u001b[38;5;241m=\u001b[39m \u001b[38;5;124mf\u001b[39m\u001b[38;5;124m\"\u001b[39m\u001b[38;5;132;01m{\u001b[39;00m\u001b[38;5;28mself\u001b[39m\u001b[38;5;241m.\u001b[39mdatadir\u001b[38;5;132;01m}\u001b[39;00m\u001b[38;5;124m/\u001b[39m\u001b[38;5;132;01m{\u001b[39;00m\u001b[38;5;28mself\u001b[39m\u001b[38;5;241m.\u001b[39mvariable\u001b[38;5;132;01m}\u001b[39;00m\u001b[38;5;124m_\u001b[39m\u001b[38;5;132;01m{\u001b[39;00mi\u001b[38;5;132;01m}\u001b[39;00m\u001b[38;5;124m-\u001b[39m\u001b[38;5;132;01m{\u001b[39;00mi\u001b[38;5;241m+\u001b[39m\u001b[38;5;28mself\u001b[39m\u001b[38;5;241m.\u001b[39mtimestep_loop\u001b[38;5;241m-\u001b[39m\u001b[38;5;241m1\u001b[39m\u001b[38;5;132;01m}\u001b[39;00m\u001b[38;5;124m.nc\u001b[39m\u001b[38;5;124m\"\u001b[39m\n\u001b[1;32m     41\u001b[0m     val[(\u001b[38;5;28mself\u001b[39m\u001b[38;5;241m.\u001b[39mfirst_data_num \u001b[38;5;241m+\u001b[39m ind \u001b[38;5;241m-\u001b[39m \u001b[38;5;28mself\u001b[39m\u001b[38;5;241m.\u001b[39mdata_num):(\u001b[38;5;28mself\u001b[39m\u001b[38;5;241m.\u001b[39mfirst_data_num \u001b[38;5;241m+\u001b[39m ind),:,:] \u001b[38;5;241m=\u001b[39m \u001b[38;5;28mself\u001b[39m\u001b[38;5;241m.\u001b[39m_fill(\n\u001b[0;32m---> 42\u001b[0m             \u001b[38;5;28;43mself\u001b[39;49m\u001b[38;5;241;43m.\u001b[39;49m\u001b[43m_load_val\u001b[49m\u001b[43m(\u001b[49m\u001b[43mfile\u001b[49m\u001b[43m,\u001b[49m\u001b[43m \u001b[49m\u001b[38;5;28;43mself\u001b[39;49m\u001b[38;5;241;43m.\u001b[39;49m\u001b[43mdata_num\u001b[49m\u001b[43m,\u001b[49m\u001b[43m \u001b[49m\u001b[43mconc_flag\u001b[49m\u001b[43m)\u001b[49m)\n\u001b[1;32m     43\u001b[0m     ind \u001b[38;5;241m+\u001b[39m\u001b[38;5;241m=\u001b[39m \u001b[38;5;28mself\u001b[39m\u001b[38;5;241m.\u001b[39mdata_num\n\u001b[1;32m     44\u001b[0m     \u001b[38;5;28mprint\u001b[39m(i, i\u001b[38;5;241m+\u001b[39m\u001b[38;5;28mself\u001b[39m\u001b[38;5;241m.\u001b[39mtimestep_loop\u001b[38;5;241m-\u001b[39m\u001b[38;5;241m1\u001b[39m)\n",
      "Input \u001b[0;32mIn [15]\u001b[0m, in \u001b[0;36mpreprocess._load_val\u001b[0;34m(self, file, data_num, conc_flag)\u001b[0m\n\u001b[1;32m     69\u001b[0m \u001b[38;5;28;01mdef\u001b[39;00m \u001b[38;5;21m_load_val\u001b[39m(\u001b[38;5;28mself\u001b[39m, file, data_num, conc_flag\u001b[38;5;241m=\u001b[39m\u001b[38;5;28;01mTrue\u001b[39;00m):\n\u001b[0;32m---> 70\u001b[0m     ds \u001b[38;5;241m=\u001b[39m \u001b[43mDataset\u001b[49m\u001b[43m(\u001b[49m\u001b[43mfile\u001b[49m\u001b[43m,\u001b[49m\u001b[43m \u001b[49m\u001b[38;5;124;43m'\u001b[39;49m\u001b[38;5;124;43mr\u001b[39;49m\u001b[38;5;124;43m'\u001b[39;49m\u001b[43m)\u001b[49m\n\u001b[1;32m     71\u001b[0m     val \u001b[38;5;241m=\u001b[39m ds\u001b[38;5;241m.\u001b[39mvariables[\u001b[38;5;28mself\u001b[39m\u001b[38;5;241m.\u001b[39mvariable][:]\n\u001b[1;32m     72\u001b[0m     val \u001b[38;5;241m=\u001b[39m val[:data_num, ::\u001b[38;5;241m-\u001b[39m\u001b[38;5;241m1\u001b[39m, :]\n",
      "File \u001b[0;32msrc/netCDF4/_netCDF4.pyx:2463\u001b[0m, in \u001b[0;36mnetCDF4._netCDF4.Dataset.__init__\u001b[0;34m()\u001b[0m\n",
      "File \u001b[0;32msrc/netCDF4/_netCDF4.pyx:2026\u001b[0m, in \u001b[0;36mnetCDF4._netCDF4._ensure_nc_success\u001b[0;34m()\u001b[0m\n",
      "\u001b[0;31mFileNotFoundError\u001b[0m: [Errno 2] No such file or directory: b'/work/kajiyama/cdo/cmip6/BCC-CSM2-MR/tos/tos_1851-1851.nc'"
     ]
    }
   ],
   "source": [
    "main()"
   ]
  },
  {
   "cell_type": "code",
   "execution_count": null,
   "id": "ab0bae5b-4eea-4f48-ac6c-5f8fb163506a",
   "metadata": {},
   "outputs": [],
   "source": []
  }
 ],
 "metadata": {
  "kernelspec": {
   "display_name": "Python 3 (ipykernel)",
   "language": "python",
   "name": "python3"
  },
  "language_info": {
   "codemirror_mode": {
    "name": "ipython",
    "version": 3
   },
   "file_extension": ".py",
   "mimetype": "text/x-python",
   "name": "python",
   "nbconvert_exporter": "python",
   "pygments_lexer": "ipython3",
   "version": "3.9.0"
  }
 },
 "nbformat": 4,
 "nbformat_minor": 5
}
