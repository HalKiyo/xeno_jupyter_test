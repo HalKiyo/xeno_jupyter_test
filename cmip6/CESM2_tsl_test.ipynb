{
 "cells": [
  {
   "cell_type": "code",
   "execution_count": 15,
   "id": "0dbe1155-22af-464d-bedd-1618d97fd911",
   "metadata": {},
   "outputs": [
    {
     "name": "stdout",
     "output_type": "stream",
     "text": [
      "(1980, 25, 180, 360)\n",
      "(1980, 180, 360)\n"
     ]
    }
   ],
   "source": [
    "from netCDF4 import Dataset\n",
    "import numpy as np\n",
    "\n",
    "file = '/work/kajiyama/cdo/cmip6/CESM2/tsl/tsl_1850-2014.nc'\n",
    "ds = Dataset(file, 'r')\n",
    "val = ds.variables['tsl']\n",
    "val = np.array(val)\n",
    "print(val.shape)\n",
    "tmp = np.mean(val[:1980, :4, ::-1, :], axis=1)\n",
    "print(tmp.shape)"
   ]
  },
  {
   "cell_type": "code",
   "execution_count": null,
   "id": "b4deb1aa-cf7f-4310-9916-909bab355ab4",
   "metadata": {},
   "outputs": [],
   "source": []
  }
 ],
 "metadata": {
  "kernelspec": {
   "display_name": "Python 3 (ipykernel)",
   "language": "python",
   "name": "python3"
  },
  "language_info": {
   "codemirror_mode": {
    "name": "ipython",
    "version": 3
   },
   "file_extension": ".py",
   "mimetype": "text/x-python",
   "name": "python",
   "nbconvert_exporter": "python",
   "pygments_lexer": "ipython3",
   "version": "3.9.0"
  }
 },
 "nbformat": 4,
 "nbformat_minor": 5
}
