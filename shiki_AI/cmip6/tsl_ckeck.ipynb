{
 "cells": [
  {
   "cell_type": "code",
   "execution_count": 1,
   "id": "2b629d70-1102-4c10-b554-6e6cf6466dc3",
   "metadata": {},
   "outputs": [],
   "source": [
    "from netCDF4 import Dataset"
   ]
  },
  {
   "cell_type": "code",
   "execution_count": 16,
   "id": "54a9753c-1d66-4921-9cd1-71433e95b770",
   "metadata": {},
   "outputs": [],
   "source": [
    "def info(model, variable, realm, experiment, grid, begin, end):\n",
    "    datadir = f\"/work/kajiyama/data/cmip6/raw/{model}/{variable}\"\n",
    "    loadname = f\"/{variable}_{realm}_{model}_historical_{experiment}_{grid}_{begin}01-{end}12.nc\"\n",
    "    ds = Dataset(datadir+loadname, 'r')\n",
    "    return ds"
   ]
  },
  {
   "cell_type": "code",
   "execution_count": 17,
   "id": "864d0ea9-6ef9-4186-b0b1-4b1837637bf2",
   "metadata": {},
   "outputs": [],
   "source": [
    "def load(model, variable, realm, experiment, grid, begin, end, dimension):\n",
    "    datadir = f\"/work/kajiyama/data/cmip6/raw/{model}/{variable}\"\n",
    "    loadname = f\"/{variable}_{realm}_{model}_historical_{experiment}_{grid}_{begin}01-{end}12.nc\"\n",
    "    ds = Dataset(datadir+loadname, 'r')\n",
    "    val = ds.variables[dimension]\n",
    "    return val"
   ]
  },
  {
   "cell_type": "code",
   "execution_count": 18,
   "id": "03c2e7b9-6474-404b-a09d-e2404153457d",
   "metadata": {},
   "outputs": [
    {
     "name": "stdout",
     "output_type": "stream",
     "text": [
      "[0.03 0.19 0.78 2.68 6.98]\n"
     ]
    }
   ],
   "source": [
    "val = load('AWI-ESM-1-1-LR', 'tsl', 'Lmon', 'r1i1p1f1', 'gn', 1850, 1850, 'depth')\n",
    "print(val[:])"
   ]
  },
  {
   "cell_type": "code",
   "execution_count": 20,
   "id": "72a3f59f-7c39-47e4-b949-db9e682b8824",
   "metadata": {},
   "outputs": [
    {
     "name": "stdout",
     "output_type": "stream",
     "text": [
      "[7.10059982e-03 2.79249996e-02 6.22580014e-02 1.18864998e-01\n",
      " 2.12192997e-01 3.66065800e-01 6.19758487e-01 1.03802705e+00\n",
      " 1.72763503e+00 2.86460710e+00 4.73915720e+00 7.82976723e+00\n",
      " 1.29253197e+01 2.13264694e+01 3.51776199e+01]\n"
     ]
    }
   ],
   "source": [
    "val = load('CAS-ESM2-0', 'tsl', 'Lmon', 'r1i1p1f1', 'gn', 1850, 1899, 'depth')\n",
    "print(val[:])"
   ]
  },
  {
   "cell_type": "code",
   "execution_count": null,
   "id": "01fb14ea-0009-4443-be90-bc55e67fd8de",
   "metadata": {},
   "outputs": [],
   "source": []
  }
 ],
 "metadata": {
  "kernelspec": {
   "display_name": "Python 3 (ipykernel)",
   "language": "python",
   "name": "python3"
  },
  "language_info": {
   "codemirror_mode": {
    "name": "ipython",
    "version": 3
   },
   "file_extension": ".py",
   "mimetype": "text/x-python",
   "name": "python",
   "nbconvert_exporter": "python",
   "pygments_lexer": "ipython3",
   "version": "3.9.0"
  }
 },
 "nbformat": 4,
 "nbformat_minor": 5
}
