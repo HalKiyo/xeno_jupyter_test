{
 "cells": [
  {
   "cell_type": "code",
   "execution_count": 6,
   "id": "7c351c1f-17cb-48af-bcdf-2e9c6597116c",
   "metadata": {},
   "outputs": [
    {
     "name": "stdout",
     "output_type": "stream",
     "text": [
      "True\n",
      "True\n",
      "True\n",
      "True\n",
      "True\n"
     ]
    }
   ],
   "source": [
    "from os.path import exists\n",
    "\n",
    "snc_path = '/work/kajiyama/cdo/cmip6/AWI-ESM-1-1-LR/snc/snc_1850-1850.nc'\n",
    "pr_path = '/work/kajiyama/cdo/cmip6/AWI-ESM-1-1-LR/pr/pr_1850-1850.nc'\n",
    "tos_path = '/work/kajiyama/cdo/cmip6/AWI-ESM-1-1-LR/tos/tos_1850-1850.nc'\n",
    "tsl_path = '/work/kajiyama/cdo/cmip6/AWI-ESM-1-1-LR/tsl/tsl_1850-1850.nc'\n",
    "mrso_path = '/work/kajiyama/cdo/cmip6/AWI-ESM-1-1-LR/mrso/mrso_1850-1850.nc'\n",
    "\n",
    "path_list = [snc_path, pr_path, tos_path, tsl_path, mrso_path]\n",
    "for i in path_list:\n",
    "    print(exists(i))"
   ]
  },
  {
   "cell_type": "code",
   "execution_count": 11,
   "id": "558fe9a6-dcb0-4292-b1e2-d244359f2835",
   "metadata": {},
   "outputs": [],
   "source": [
    "from netCDF4 import Dataset\n",
    "\n",
    "ds = Dataset(snc_path, 'r')\n",
    "snc = ds.variables['snc'][:]\n",
    "ds = Dataset(pr_path, 'r')\n",
    "snc = ds.variables['pr'][:]\n",
    "ds = Dataset(tos_path, 'r')\n",
    "snc = ds.variables['tos'][:]\n",
    "ds = Dataset(tsl_path, 'r')\n",
    "snc = ds.variables['tsl'][:]\n",
    "ds = Dataset(mrso_path, 'r')\n",
    "snc = ds.variables['mrso'][:]"
   ]
  }
 ],
 "metadata": {
  "kernelspec": {
   "display_name": "Python 3 (ipykernel)",
   "language": "python",
   "name": "python3"
  },
  "language_info": {
   "codemirror_mode": {
    "name": "ipython",
    "version": 3
   },
   "file_extension": ".py",
   "mimetype": "text/x-python",
   "name": "python",
   "nbconvert_exporter": "python",
   "pygments_lexer": "ipython3",
   "version": "3.9.0"
  }
 },
 "nbformat": 4,
 "nbformat_minor": 5
}
