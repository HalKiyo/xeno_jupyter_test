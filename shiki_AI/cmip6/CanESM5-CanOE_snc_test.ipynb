{
 "cells": [
  {
   "cell_type": "code",
   "execution_count": 39,
   "id": "09e5ff42-a922-4a83-9886-d6ed644268c4",
   "metadata": {},
   "outputs": [
    {
     "data": {
      "text/plain": [
       "True"
      ]
     },
     "execution_count": 39,
     "metadata": {},
     "output_type": "execute_result"
    }
   ],
   "source": [
    "from netCDF4 import Dataset\n",
    "from os.path import exists\n",
    "\n",
    "rawpath = '/work/kajiyama/data/cmip6/raw/CanESM5-CanOE/snc/snc_LImon_CanESM5-CanOE_historical_r1i1p2f1_gn_185001-201412.nc'\n",
    "cdopath = '/work/kajiyama/cdo/cmip6/CanESM5-CanOE/snc/snc_1850-2014.nc'\n",
    "testpath = 'out.nc'\n",
    "exists(cdopath)\n"
   ]
  },
  {
   "cell_type": "code",
   "execution_count": 40,
   "id": "4433f108-6d0a-47bc-a3a2-19d51f54b30f",
   "metadata": {},
   "outputs": [
    {
     "name": "stdout",
     "output_type": "stream",
     "text": [
      "(1980, 64, 128)\n"
     ]
    }
   ],
   "source": [
    "nc_raw = Dataset(rawpath, 'r')\n",
    "snc_raw = nc_raw.variables['snc'][:]\n",
    "print(snc_raw.shape)"
   ]
  },
  {
   "cell_type": "code",
   "execution_count": 41,
   "id": "3a8f37d5-cb60-448d-bb1b-228a1e1e7db1",
   "metadata": {},
   "outputs": [
    {
     "name": "stdout",
     "output_type": "stream",
     "text": [
      "(1980, 180, 360)\n"
     ]
    }
   ],
   "source": [
    "nc_cdo = Dataset(cdopath, 'r')\n",
    "snc_cdo = nc_cdo.variables['snc'][:]\n",
    "print(snc_cdo.shape)"
   ]
  },
  {
   "cell_type": "code",
   "execution_count": 31,
   "id": "0d2e17b6-bd73-4a29-924f-341178db62da",
   "metadata": {},
   "outputs": [],
   "source": [
    "from cdo import Cdo\n",
    "\n",
    "def time():\n",
    "    rawpath = '/work/kajiyama/data/cmip6/raw/CanESM5-CanOE/snc/snc_LImon_CanESM5-CanOE_historical_r1i1p2f1_gn_185001-201412.nc'\n",
    "    testpath = 'out.nc'\n",
    "    begin_time = 1850\n",
    "    end_time = 2014\n",
    "    time_length = (end_time - begin_time + 1) * 12\n",
    "    return rawpath, testpath, time_length\n",
    "\n",
    "def regrid(infile, outfile, time_length):\n",
    "    cdo = Cdo()\n",
    "    cdo.remapbil(f\"r360x180\", input=f\"-seltimestep,1/{time_length} -selvar,snc \"+infile, output=outfile)"
   ]
  },
  {
   "cell_type": "code",
   "execution_count": 33,
   "id": "6cfb9b01-19fd-4521-9b01-d08033fb2e8d",
   "metadata": {},
   "outputs": [],
   "source": [
    "#regrid(*time())"
   ]
  },
  {
   "cell_type": "code",
   "execution_count": 38,
   "id": "e835d946-522b-4559-937b-d0eba3f7d3f5",
   "metadata": {},
   "outputs": [
    {
     "name": "stdout",
     "output_type": "stream",
     "text": [
      "(1980, 180, 360)\n"
     ]
    }
   ],
   "source": [
    "nc = Dataset(testpath, 'r')\n",
    "snc = nc.variables['snc'][:]\n",
    "print(snc.shape)"
   ]
  },
  {
   "cell_type": "code",
   "execution_count": null,
   "id": "e6317457-0a64-4be0-ad87-1b060cc4f899",
   "metadata": {},
   "outputs": [],
   "source": []
  }
 ],
 "metadata": {
  "kernelspec": {
   "display_name": "Python 3 (ipykernel)",
   "language": "python",
   "name": "python3"
  },
  "language_info": {
   "codemirror_mode": {
    "name": "ipython",
    "version": 3
   },
   "file_extension": ".py",
   "mimetype": "text/x-python",
   "name": "python",
   "nbconvert_exporter": "python",
   "pygments_lexer": "ipython3",
   "version": "3.9.0"
  }
 },
 "nbformat": 4,
 "nbformat_minor": 5
}
