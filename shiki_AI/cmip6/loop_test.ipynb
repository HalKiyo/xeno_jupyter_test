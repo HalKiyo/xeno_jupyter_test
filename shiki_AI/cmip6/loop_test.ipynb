{
 "cells": [
  {
   "cell_type": "code",
   "execution_count": 1,
   "id": "10b5c34b-079a-4020-8ff2-312587462911",
   "metadata": {},
   "outputs": [],
   "source": [
    "import numpy as np\n",
    "import numpy.ma as ma\n",
    "from netCDF4 import Dataset"
   ]
  },
  {
   "cell_type": "code",
   "execution_count": null,
   "id": "84100901-d556-4495-a405-285b28a4aff9",
   "metadata": {},
   "outputs": [],
   "source": [
    "class preprocess():\n",
    "    def __init__(self, model, variable, timestep_loop, \n",
    "                 first_begin, first_end, last_begin, last_end, start_loop, stop_loop):\n",
    "        self.model = model\n",
    "        self.variable = variable\n",
    "        self.timestep_loop = timestep_loop\n",
    "        self.first_begin, self.first_end = first_begin, first_end\n",
    "        self.last_begin, self.last_end = last_begin, last_end\n",
    "        self.start_loop, self.stop_loop = start_loop, stop_loop\n",
    "\n",
    "        self.ulim, self.llim = 30, -30 # upper and lower limits of latitude\n",
    "        self.lt, self.ln = 120, 360 # grid number of latitude and longitude \n",
    "        self.upscale_rate = 5 # from 1x1 to 5x5\n",
    "        self.data_num= 12*self.timestep_loop # number of data in one file\n",
    "        self.first_data_num = 12*(self.first_end - self.first_begin + 1)\n",
    "        self.last_data_num = 12*(self.last_end - self.last_begin + 1)\n",
    "        self.loopyr = (self.stop_loop - self.start_loop)/self.timestep_loop\n",
    "        self.tm = int(self.data_num*self.loopyr+self.first_data_num+self.last_data_num) # number of all data\n",
    "\n",
    "        self.datadir = f\"/work/kajiyama/cdo/cmip6/{self.model}/{self.variable}\"\n",
    "        self.first_file = f\"{self.datadir}/{self.variable}_{self.first_begin}-{self.first_end}.nc\"\n",
    "        self.last_file = f\"{self.datadir}/{self.variable}_{self.last_begin}-{self.last_end}.nc\"\n",
    "        self.save_file = f\"/work/kajiyama/preprocessed/cmip6/{self.model}\" \\\n",
    "                         f\"/{self.variable}_{self.model}.pickle\"\n",
    "        \n",
    "    def make_val(self, conc_flag, first_flag=True, loop_flag=True, last_flag=True):\n",
    "        # making empty box for save file\n",
    "        val = np.empty((self.tm, self.lt, self.ln))\n",
    "\n",
    "        # first netCDF4 files\n",
    "        if first_flag is True:\n",
    "            val[:self.first_data_num, :, :] = self._fill(\n",
    "                    self._load_val(self.first_file, self.first_data_num, conc_flag))\n",
    "\n",
    "        # middle netcdf4 files\n",
    "        # time augument count\n",
    "        if loop_flag is True:\n",
    "            ind = self.data_num \n",
    "            #\n",
    "            for i in range(self.start_loop, self.stop_loop+1, self.timestep_loop):\n",
    "                # \n",
    "                file = f\"{self.datadir}/{self.variable}_{i}-{i+self.timestep_loop-1}.nc\"\n",
    "                val[(self.first_data_num + ind - self.data_num):(self.first_data_num + ind),:,:] = self._fill(\n",
    "                        self._load_val(file, self.data_num, conc_flag))\n",
    "                ind += self.data_num\n",
    "                print(i, i+self.timestep_loop-1)\n",
    "\n",
    "        # last netcdf4 files\n",
    "        if last_flag is True:\n",
    "            val[-self.last_data_num:, :, :] = self._fill(\n",
    "                    self._load_val(self.last_file, self.last_data_num, conc_flag))\n",
    "            val = self._mask(val)\n",
    "            \n",
    "        return val\n",
    "\n",
    "    def _fill(self, x):\n",
    "        f = ma.filled(x,fill_value=99999)\n",
    "        return f\n",
    "\n",
    "    def _mask(self, x):\n",
    "        m = ma.masked_where(x>9999, x)\n",
    "        return m\n",
    "\n",
    "    def _conc(self, x):\n",
    "        c = x.copy()\n",
    "        c = self._fill(c)\n",
    "        x1, x2 = c[:,:,-180:], c[:,:,:180]\n",
    "        c = np.concatenate([x1,x2],2)\n",
    "        c = self._mask(c)\n",
    "\n",
    "        return c\n",
    "\n",
    "    def _load_val(self, file, data_num, conc_flag=True):\n",
    "        ds = Dataset(file, 'r')\n",
    "        val = ds.variables[self.variable][:]\n",
    "        val = val[:data_num, ::-1, :]\n",
    "        if conc_flag is True:\n",
    "            val = self._conc(val[:,self.ulim:self.llim,:])\n",
    "        else:\n",
    "            val = val[:, self.ulim:self.llim, :]\n",
    "        return val"
   ]
  },
  {
   "cell_type": "code",
   "execution_count": 18,
   "id": "d8a8a98e-f03e-4e5f-9bb3-e55b683788a8",
   "metadata": {},
   "outputs": [],
   "source": [
    "def main():\n",
    "    save_flag = False\n",
    "    conc_flag = True\n",
    "    first_flag = True\n",
    "    loop_flag = False\n",
    "    last_flag = False\n",
    "    reverse_flag = False\n",
    "    model = 'BCC-CSM2-MR'\n",
    "    variable = 'tos'\n",
    "    first_begin, first_end = 1850, 2014\n",
    "    last_begin, last_end = 99999, 99999\n",
    "    # if no loop is required, edit like start_loop=stop_loop=1851 and timestep_loop > 0\n",
    "    start_loop, stop_loop = 99999, 99999\n",
    "    timestep_loop = 99999\n",
    "\n",
    "    pre = preprocess(model, variable, timestep_loop, \n",
    "                     first_begin, first_end, last_begin, last_end, start_loop, stop_loop)\n",
    "\n",
    "    #tos = pre.make_val(conc_flag=conc_flag, first_flag=first_flag, loop_flag=loop_flag, last_flag=last_flag)\n",
    "    file = f\"{pre.datadir}/{pre.variable}_{pre.first_begin}-{pre.first_end}.nc\"\n",
    "    tos = pre._load_val(file, pre.data_num, conc_flag)\n",
    "    print(tos.shape)"
   ]
  },
  {
   "cell_type": "code",
   "execution_count": 19,
   "id": "e824968a-0137-4135-a867-f5eab89adf8e",
   "metadata": {},
   "outputs": [
    {
     "name": "stdout",
     "output_type": "stream",
     "text": [
      "(1980, 120, 360)\n"
     ]
    }
   ],
   "source": [
    "main()"
   ]
  },
  {
   "cell_type": "code",
   "execution_count": null,
   "id": "ab0bae5b-4eea-4f48-ac6c-5f8fb163506a",
   "metadata": {},
   "outputs": [],
   "source": []
  }
 ],
 "metadata": {
  "kernelspec": {
   "display_name": "Python 3 (ipykernel)",
   "language": "python",
   "name": "python3"
  },
  "language_info": {
   "codemirror_mode": {
    "name": "ipython",
    "version": 3
   },
   "file_extension": ".py",
   "mimetype": "text/x-python",
   "name": "python",
   "nbconvert_exporter": "python",
   "pygments_lexer": "ipython3",
   "version": "3.9.0"
  },
  "toc-showmarkdowntxt": false
 },
 "nbformat": 4,
 "nbformat_minor": 5
}
