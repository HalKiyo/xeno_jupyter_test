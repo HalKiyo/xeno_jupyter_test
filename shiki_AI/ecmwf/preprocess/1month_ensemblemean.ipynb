{
 "cells": [
  {
   "cell_type": "code",
   "execution_count": 1,
   "id": "838f26bd-0e37-470f-9cbf-a117d87150e1",
   "metadata": {},
   "outputs": [],
   "source": [
    "import numpy as np\n",
    "import matplotlib.pyplot as plt\n",
    "import cartopy.crs as ccrs\n",
    "import cmaps\n",
    "#cmap = cmaps.WhiteBlueGreenYellowRed"
   ]
  },
  {
   "cell_type": "code",
   "execution_count": 2,
   "id": "27f984a9-3a88-4726-96ac-742afd12d893",
   "metadata": {},
   "outputs": [],
   "source": [
    "def load_monthly(filename='may_first_start_1993_2016_7months_25ensembles',\n",
    "                ):\n",
    "    \"\"\"\n",
    "    ensembles: 25 or 51\n",
    "    months: 7\n",
    "    lats: 181\n",
    "    lons: 360\n",
    "    \"\"\"\n",
    "    dr = '/work/kajiyama/preprocessed/ECMWF_forecast/main/'\n",
    "    path = dr + filename + '.npy'\n",
    "    monthly = np.load(path)\n",
    "    print(f'monthly.shape: {monthly.shape}')\n",
    "    return monthly"
   ]
  },
  {
   "cell_type": "code",
   "execution_count": 7,
   "id": "f3c87547-f9fc-46b9-9f14-9ec5bf1a1dcd",
   "metadata": {},
   "outputs": [],
   "source": [
    "def save_specific_leadtime(leadtime=0):\n",
    "    \"\"\"\n",
    "    leadtime = 0(1month prediction)\n",
    "    0 = prediction of January based on Dec 1\n",
    "    \"\"\"\n",
    "    savefname = '/work/kajiyama/preprocessed/ECMWF_forecast/1month_ensemblemean/' \\\n",
    "                'leadtime_1month_ensemblemean_1993_2016.npy'\n",
    "\n",
    "    cal_lst = ['dec', 'jan', 'feb', 'mar', 'apr', 'may', 'jun', 'jul', 'aug', 'sep', 'oct', 'nov']\n",
    "    one_month = np.empty((24, 12, 181, 360)) # (24years, 12month, 181lats, 360lons)\n",
    "\n",
    "    for i, key in enumerate(cal_lst):\n",
    "        m = load_monthly(f\"{key}_first_start_1993_2016_7months_25ensembles\")\n",
    "        one = m[:, :, leadtime, :, :]\n",
    "        mean = np.mean(one, axis=0)\n",
    "        one_month[:, i, :, :] = mean\n",
    "\n",
    "    np.save(savefname, one_month)"
   ]
  },
  {
   "cell_type": "code",
   "execution_count": 8,
   "id": "966fd69e-5184-4d59-bfa9-f86a2b821936",
   "metadata": {},
   "outputs": [
    {
     "name": "stdout",
     "output_type": "stream",
     "text": [
      "monthly.shape: (25, 24, 7, 181, 360)\n",
      "monthly.shape: (25, 24, 7, 181, 360)\n",
      "monthly.shape: (25, 24, 7, 181, 360)\n",
      "monthly.shape: (25, 24, 7, 181, 360)\n",
      "monthly.shape: (25, 24, 7, 181, 360)\n",
      "monthly.shape: (25, 24, 7, 181, 360)\n",
      "monthly.shape: (25, 24, 7, 181, 360)\n",
      "monthly.shape: (25, 24, 7, 181, 360)\n",
      "monthly.shape: (25, 24, 7, 181, 360)\n",
      "monthly.shape: (25, 24, 7, 181, 360)\n",
      "monthly.shape: (25, 24, 7, 181, 360)\n",
      "monthly.shape: (25, 24, 7, 181, 360)\n"
     ]
    }
   ],
   "source": [
    "save_specific_leadtime()"
   ]
  }
 ],
 "metadata": {
  "kernelspec": {
   "display_name": "Python 3 (ipykernel)",
   "language": "python",
   "name": "python3"
  },
  "language_info": {
   "codemirror_mode": {
    "name": "ipython",
    "version": 3
   },
   "file_extension": ".py",
   "mimetype": "text/x-python",
   "name": "python",
   "nbconvert_exporter": "python",
   "pygments_lexer": "ipython3",
   "version": "3.9.0"
  }
 },
 "nbformat": 4,
 "nbformat_minor": 5
}
