{
 "cells": [
  {
   "cell_type": "code",
   "execution_count": 10,
   "id": "104357d1-ca50-4d08-88e5-7953d7a115de",
   "metadata": {},
   "outputs": [],
   "source": [
    "import numpy as np\n",
    "import pygrib"
   ]
  },
  {
   "cell_type": "code",
   "execution_count": 12,
   "id": "3c724e9b-fa0a-4c54-b1be-147ca9f5407f",
   "metadata": {},
   "outputs": [],
   "source": [
    "def open_grib(name):\n",
    "    dirname = '/work/common/precipitation/ECMWF_forecast/'\n",
    "    path = dirname + name\n",
    "    grbs = pygrib.open(path)\n",
    "    grb = grbs.select()\n",
    "    print(f'len(grb): {len(grb)}')\n",
    "    return grb"
   ]
  },
  {
   "cell_type": "code",
   "execution_count": 18,
   "id": "8a0ff6bb-7484-406d-8030-411c381a75ed",
   "metadata": {},
   "outputs": [],
   "source": [
    "def ndarray_reshape(filename='may_first_start_2017_2022_51ensembles',\n",
    "                    ensembles=51,\n",
    "                    years=30,\n",
    "                    days=215,\n",
    "                    lats=181,\n",
    "                    lons=360\n",
    "                    save_flag=False):\n",
    "    \"\"\"\n",
    "    [0]: ensemble0, 1993, 24\n",
    "    [1]: ensemble0, 1993, 48\n",
    "    [2]: ensemble0, 1993, 72\n",
    "    [10]: ensemble0, 1996, 48\n",
    "    [15]: ensemble1, 1993, 24\n",
    "    \n",
    "    >>> np.arange(30).reshape(2, 3, 5)\n",
    "    array([[[ 0,  1,  2,  3,  4],\n",
    "        [ 5,  6,  7,  8,  9],\n",
    "        [10, 11, 12, 13, 14]],\n",
    "\n",
    "       [[15, 16, 17, 18, 19],\n",
    "        [20, 21, 22, 23, 24],\n",
    "        [25, 26, 27, 28, 29]]])\n",
    "        \n",
    "    >>> b[0]\n",
    "    array([[ 0,  1,  2,  3,  4],\n",
    "           [ 5,  6,  7,  8,  9],\n",
    "           [10, 11, 12, 13, 14]])\n",
    "    \"\"\"\n",
    "    name = 'original/' + filename + '.grib'\n",
    "    grb = open_grib(name)\n",
    "    \n",
    "    lst = []\n",
    "    for g in grb:\n",
    "        value = g.values.reshape(lats, lons)\n",
    "        lst.append(value)\n",
    "    arry = np.array(lst)\n",
    "    reshaped = np.reshape(arry, (ensembles, years, days, lats, lons))\n",
    "    print(f'arry.shape: {reshaped.shape}')\n",
    "    \n",
    "    if save_flag is False:\n",
    "        print(f\"save_flag is {save_flag}\")\n",
    "    else:\n",
    "        dr = '/work/common/precipitation/ECMWF_forecast/ndarray/'\n",
    "        save_path = dr + filename + '.npy'\n",
    "        np.save(save_path, reshaped)\n",
    "        print(f\"{save_path} saved\")"
   ]
  },
  {
   "cell_type": "code",
   "execution_count": 16,
   "id": "7e1f15b3-793f-4315-88af-30db137de938",
   "metadata": {},
   "outputs": [
    {
     "name": "stdout",
     "output_type": "stream",
     "text": [
      "len(grb): 65790\n",
      "arry.shape: (51, 6, 215, 181, 360)\n",
      "len(grb): 129000\n",
      "arry.shape: (25, 24, 215, 181, 360)\n"
     ]
    }
   ],
   "source": [
    "ndarray_reshape(filename='may_first_start_2017_2022_215days_51ensembles',\n",
    "                ensembles=51,\n",
    "                years=6,\n",
    "                days=215,\n",
    "                save_flag=True)\n",
    "ndarray_reshape(filename='may_first_start_1993_2016_215days_25ensembles',\n",
    "                ensembles=25,\n",
    "                years=24,\n",
    "                days=215,\n",
    "                save_flag=True)"
   ]
  },
  {
   "cell_type": "code",
   "execution_count": null,
   "id": "b6361c24-48f4-4c06-9aad-730023050f60",
   "metadata": {},
   "outputs": [],
   "source": []
  }
 ],
 "metadata": {
  "kernelspec": {
   "display_name": "Python 3 (ipykernel)",
   "language": "python",
   "name": "python3"
  },
  "language_info": {
   "codemirror_mode": {
    "name": "ipython",
    "version": 3
   },
   "file_extension": ".py",
   "mimetype": "text/x-python",
   "name": "python",
   "nbconvert_exporter": "python",
   "pygments_lexer": "ipython3",
   "version": "3.9.0"
  }
 },
 "nbformat": 4,
 "nbformat_minor": 5
}
