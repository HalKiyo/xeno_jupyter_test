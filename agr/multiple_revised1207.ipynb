{
 "cells": [
  {
   "cell_type": "code",
   "execution_count": 60,
   "id": "82c46958-3216-4cfe-9b7f-7d08decb7b49",
   "metadata": {},
   "outputs": [],
   "source": [
    "import numpy as np\n",
    "import matplotlib.pyplot as plt\n",
    "import cartopy.crs as ccrs\n",
    "import cmaps\n",
    "from matplotlib.colors import LogNorm"
   ]
  },
  {
   "cell_type": "code",
   "execution_count": 61,
   "id": "e0652b51-e615-4c1e-ada6-fcaeda1e749b",
   "metadata": {},
   "outputs": [],
   "source": [
    "def worldmap(img, vmin=0, vmax=1e2):\n",
    "    projection = ccrs.PlateCarree(central_longitude=0)\n",
    "    img_extent = (-180, 180, -90, 90)\n",
    "\n",
    "    fig = plt.figure()\n",
    "    ax = plt.subplot(projection=projection)\n",
    "    ax.coastlines()\n",
    "    im = ax.imshow(img,\n",
    "                   origin='upper',\n",
    "                   extent=img_extent,\n",
    "                   transform=projection,\n",
    "                   cmap='GnBu',\n",
    "                   vmin=vmin, vmax=vmax)\n",
    "    fig.colorbar(im, ax=ax, orientation='horizontal')"
   ]
  },
  {
   "cell_type": "code",
   "execution_count": 62,
   "id": "708033e1-6ccc-4c92-82d2-afdb51653918",
   "metadata": {},
   "outputs": [],
   "source": [
    "def worldmap_norm(data, vmin=1e-30):\n",
    "    projection = ccrs.PlateCarree(central_longitude=0)\n",
    "    img_extent = (-180, 180, -90, 90)\n",
    "    \n",
    "    log_norm = LogNorm(vmin=vmin, vmax=data.max())\n",
    "    #log_norm_data = log_norm(data, clip=True)\n",
    "\n",
    "    fig = plt.figure()\n",
    "    ax = plt.subplot(projection=projection)\n",
    "    ax.coastlines()\n",
    "    im = ax.imshow(data,\n",
    "                   origin='upper',\n",
    "                   extent=img_extent,\n",
    "                   transform=projection,\n",
    "                   cmap='GnBu',\n",
    "                   norm=log_norm)\n",
    "    fig.colorbar(im, ax=ax, orientation='horizontal')"
   ]
  },
  {
   "cell_type": "code",
   "execution_count": 63,
   "id": "6b5207fd-7966-4712-8f24-714d5ffb2295",
   "metadata": {},
   "outputs": [],
   "source": [
    "def load(name, SUF='.hlf', day=356, second=86400, coef=1e12):\n",
    "    if SUF == '.hlf':\n",
    "        shape = (360, 720)\n",
    "        areapath = '/home/kajiyama/H08/H08_20230612/map/dat/lnd_ara_/lndara.WFDEI.hlf'\n",
    "        maskpath = '/home/kajiyama/H08/H08_20230612/map/dat/lnd_msk_/lndmsk.WFDEI.hlf'\n",
    "    elif SUF == '.gl5':\n",
    "        shape = (2160, 4320)\n",
    "        areapath = '/home/kajiyama/H08/H08_20230612/map/dat/lnd_ara_/lndara.CAMA.gl5'\n",
    "        maskpath = '/home/kajiyama/H08/H08_20230612/map/dat/lnd_msk_/lndmsk.CAMA.gl5'\n",
    "    dtype = 'float32' # 4バイト\n",
    "    lnddir = '/home/kajiyama/H08/H08_20230612/'\n",
    "    file = lnddir + name\n",
    "    \n",
    "    # data\n",
    "    data = np.fromfile(file, dtype=dtype)\n",
    "    lonlat = data.reshape(shape)\n",
    "    \n",
    "    # mask out\n",
    "    mask = np.fromfile(maskpath, dtype=dtype)\n",
    "    mask = mask.reshape(shape)\n",
    "    lonlat = np.ma.masked_where(mask==0, lonlat)\n",
    "    lonlat = np.ma.masked_where(lonlat>1e19, lonlat)\n",
    "    \n",
    "    return lonlat"
   ]
  },
  {
   "cell_type": "markdown",
   "id": "0ca78c2c-ab26-4200-a4ff-1d51c4990ab2",
   "metadata": {},
   "source": [
    "# RESULTS"
   ]
  },
  {
   "cell_type": "code",
   "execution_count": 65,
   "id": "d829fe7b-4c3f-4350-955a-f3c6111f2440",
   "metadata": {},
   "outputs": [
    {
     "name": "stdout",
     "output_type": "stream",
     "text": [
      " irg_1 less than 0 is 0\n",
      " irg_2 less than 0 is 0\n",
      " irg_3 less than 0 is 0\n",
      " irg_4 less than 0 is 0\n",
      "irg_1 61.435687731200005 million ha\n",
      "irg_2 210.759909376 million ha\n",
      "irg_3 1269.9161329663998 million ha\n",
      "irg_4 12064.5874614272 million ha\n",
      "area_total 13606.69966336 million ha\n",
      "area_true 13606.7046965248 million ha\n"
     ]
    }
   ],
   "source": [
    "ara = load(name='map/dat/lnd_ara_/lndara.CAMA.gl5', SUF='.gl5')\n",
    "irg_1 = load(name='map/out/irg_frcd/S05_____20000000.gl5', SUF='.gl5')\n",
    "irg_2 = load(name='map/out/irg_frcs/S05_____20000000.gl5', SUF='.gl5')\n",
    "irg_3 = load(name='map/out/rfd_frc_/S05_____20000000.gl5', SUF='.gl5')\n",
    "irg_4 = load(name='map/out/non_frc_/S05_____20000000.gl5', SUF='.gl5')\n",
    "\n",
    "# 1ha = 10,000m2\n",
    "mult_1 = ara*irg_1\n",
    "mult_2 = ara*irg_2\n",
    "mult_3 = ara*irg_3\n",
    "mult_4 = ara*irg_4\n",
    "\n",
    "count_1 = np.sum(mult_1 < 0)\n",
    "count_2 = np.sum(mult_2 < 0)\n",
    "count_3 = np.sum(mult_3 < 0)\n",
    "count_4 = np.sum(mult_4 < 0)\n",
    "print(f\" irg_1 less than 0 is {count_1}\")\n",
    "print(f\" irg_2 less than 0 is {count_2}\")\n",
    "print(f\" irg_3 less than 0 is {count_3}\")\n",
    "print(f\" irg_4 less than 0 is {count_4}\")\n",
    "\n",
    "# sum\n",
    "total_1 = np.sum(mult_1)\n",
    "total_2 = np.sum(mult_2)\n",
    "total_3 = np.sum(mult_3)\n",
    "total_4 = np.sum(mult_4)\n",
    "print(f\"irg_1 {total_1/1e4/1e6} million ha\")\n",
    "print(f\"irg_2 {total_2/1e4/1e6} million ha\")\n",
    "print(f\"irg_3 {total_3/1e4/1e6} million ha\")\n",
    "print(f\"irg_4 {total_4/1e4/1e6} million ha\")\n",
    "\n",
    "print(f\"area_total {(total_1 + total_2 + total_3 + total_4)/1e10} million ha\")\n",
    "print(f\"area_true {np.sum(ara)/1e10} million ha\")"
   ]
  },
  {
   "cell_type": "code",
   "execution_count": null,
   "id": "0fe5b669-8eee-4d06-8a75-218b03de16ad",
   "metadata": {},
   "outputs": [],
   "source": []
  },
  {
   "cell_type": "code",
   "execution_count": null,
   "id": "f5d62f07-d3ed-4f1f-940b-5dd2bd9f59e6",
   "metadata": {},
   "outputs": [],
   "source": []
  }
 ],
 "metadata": {
  "kernelspec": {
   "display_name": "Python 3 (ipykernel)",
   "language": "python",
   "name": "python3"
  },
  "language_info": {
   "codemirror_mode": {
    "name": "ipython",
    "version": 3
   },
   "file_extension": ".py",
   "mimetype": "text/x-python",
   "name": "python",
   "nbconvert_exporter": "python",
   "pygments_lexer": "ipython3",
   "version": "3.9.0"
  }
 },
 "nbformat": 4,
 "nbformat_minor": 5
}
