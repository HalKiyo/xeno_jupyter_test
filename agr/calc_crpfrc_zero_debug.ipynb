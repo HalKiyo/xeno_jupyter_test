{
 "cells": [
  {
   "cell_type": "code",
   "execution_count": 60,
   "id": "82c46958-3216-4cfe-9b7f-7d08decb7b49",
   "metadata": {},
   "outputs": [],
   "source": [
    "import numpy as np\n",
    "import matplotlib.pyplot as plt\n",
    "import cartopy.crs as ccrs\n",
    "import cmaps\n",
    "from matplotlib.colors import LogNorm"
   ]
  },
  {
   "cell_type": "code",
   "execution_count": 61,
   "id": "6b5207fd-7966-4712-8f24-714d5ffb2295",
   "metadata": {},
   "outputs": [],
   "source": [
    "def load(name):\n",
    "    dtype = 'float32' # 4バイト\n",
    "    lnddir = '/home/kajiyama/H08/H08_20230612/'\n",
    "    file = lnddir + name\n",
    "    data = np.fromfile(file, dtype=dtype)\n",
    "    return data"
   ]
  },
  {
   "cell_type": "code",
   "execution_count": 62,
   "id": "44304d05-bcdf-48a7-8ab1-68d3e4840701",
   "metadata": {},
   "outputs": [],
   "source": [
    "def save_bin(data, name):\n",
    "    lnddir = '/home/kajiyama/H08/H08_20230612/'\n",
    "    file = lnddir + name\n",
    "    data.astype(np.float32).tofile(file)"
   ]
  },
  {
   "cell_type": "code",
   "execution_count": 63,
   "id": "cb8b43ad-4f3f-438d-8b7d-2320b6dbf9d6",
   "metadata": {},
   "outputs": [
    {
     "name": "stdout",
     "output_type": "stream",
     "text": [
      "0\n",
      "0\n",
      "0\n",
      "0\n"
     ]
    }
   ],
   "source": [
    "dbl = load(name='map/out/irg_arad/S05_____20000000.gl5')\n",
    "sgl = load(name='map/out/irg_aras/S05_____20000000.gl5')\n",
    "rfd = load(name='map/out/rfd_ara_/S05_____20000000.gl5')\n",
    "non = load(name='map/out/non_ara_/S05_____20000000.gl5')\n",
    "\n",
    "count_1 = np.sum(dbl < 0)\n",
    "count_2 = np.sum(sgl < 0)\n",
    "count_3 = np.sum(rfd < 0)\n",
    "count_4 = np.sum(non < 0)\n",
    "print(count_1)\n",
    "print(count_2)\n",
    "print(count_3)\n",
    "print(count_4)"
   ]
  },
  {
   "cell_type": "markdown",
   "id": "0ca78c2c-ab26-4200-a4ff-1d51c4990ab2",
   "metadata": {},
   "source": [
    "# RESULTS"
   ]
  },
  {
   "cell_type": "code",
   "execution_count": 64,
   "id": "d829fe7b-4c3f-4350-955a-f3c6111f2440",
   "metadata": {},
   "outputs": [],
   "source": [
    "for i, value in enumerate(non):\n",
    "    if value < 0:\n",
    "        ab = np.abs(value)\n",
    "        if dbl[i] > ab:\n",
    "            dbl[i] = dbl[i] - ab\n",
    "        elif sgl[i] > ab:\n",
    "            sgl[i] = sgl[i] - ab\n",
    "        elif rfd[i] > ab:\n",
    "            rfd[i] = rfd[i] - ab\n",
    "        non[i] = non[i] + ab"
   ]
  },
  {
   "cell_type": "code",
   "execution_count": 65,
   "id": "0fe5b669-8eee-4d06-8a75-218b03de16ad",
   "metadata": {},
   "outputs": [
    {
     "name": "stdout",
     "output_type": "stream",
     "text": [
      "0\n",
      "0\n",
      "0\n",
      "0\n"
     ]
    }
   ],
   "source": [
    "count_1 = np.sum(dbl < 0)\n",
    "count_2 = np.sum(sgl < 0)\n",
    "count_3 = np.sum(rfd < 0)\n",
    "count_4 = np.sum(non < 0)\n",
    "print(count_1)\n",
    "print(count_2)\n",
    "print(count_3)\n",
    "print(count_4)"
   ]
  },
  {
   "cell_type": "code",
   "execution_count": 59,
   "id": "943365ad-c821-4404-be6c-cd8b78a9ec91",
   "metadata": {},
   "outputs": [],
   "source": [
    "#lnddir = '/home/kajiyama/H08/H08_20230612/'\n",
    "#dbl.astype(np.float32).tofile(lnddir + 'map/out/irg_arad/S05_____20000000.gl5')\n",
    "#sgl.astype(np.float32).tofile(lnddir + 'map/out/irg_aras/S05_____20000000.gl5')\n",
    "#rfd.astype(np.float32).tofile(lnddir + 'map/out/rfd_ara_/S05_____20000000.gl5')\n",
    "#non.astype(np.float32).tofile(lnddir + 'map/out/non_ara_/S05_____20000000.gl5')"
   ]
  },
  {
   "cell_type": "code",
   "execution_count": null,
   "id": "3bbf1740-381e-427b-a265-cf32d228cf2e",
   "metadata": {},
   "outputs": [],
   "source": []
  }
 ],
 "metadata": {
  "kernelspec": {
   "display_name": "Python 3 (ipykernel)",
   "language": "python",
   "name": "python3"
  },
  "language_info": {
   "codemirror_mode": {
    "name": "ipython",
    "version": 3
   },
   "file_extension": ".py",
   "mimetype": "text/x-python",
   "name": "python",
   "nbconvert_exporter": "python",
   "pygments_lexer": "ipython3",
   "version": "3.9.0"
  }
 },
 "nbformat": 4,
 "nbformat_minor": 5
}
