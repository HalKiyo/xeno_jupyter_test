{
 "cells": [
  {
   "cell_type": "code",
   "execution_count": 1,
   "id": "472b9488-d840-4bd7-b207-8dcf37aed82a",
   "metadata": {},
   "outputs": [
    {
     "name": "stdout",
     "output_type": "stream",
     "text": [
      "True\n"
     ]
    }
   ],
   "source": [
    "from os.path import exists\n",
    "\n",
    "mjjaso_path = '/work/kajiyama/cnn/input/pr/thailand/5x5/pr_5x5_coarse_std_MJJASO_thailand.npy'\n",
    "\n",
    "path_list = [mjjaso_path]\n",
    "for i in path_list:\n",
    "    print(exists(i))"
   ]
  },
  {
   "cell_type": "code",
   "execution_count": 2,
   "id": "4da151b1-b52f-4155-ad47-8f765c9036f8",
   "metadata": {},
   "outputs": [],
   "source": [
    "import numpy as np\n",
    "\n",
    "mjjaso_thailand = np.load(mjjaso_path) #mjjaso[42, 165, 4, 4]"
   ]
  },
  {
   "cell_type": "code",
   "execution_count": 3,
   "id": "dbaac6e4-5f7e-4e1e-b504-b4244838e84c",
   "metadata": {},
   "outputs": [
    {
     "name": "stdout",
     "output_type": "stream",
     "text": [
      "(42, 165, 4, 4)\n"
     ]
    }
   ],
   "source": [
    "print(mjjaso_thailand.shape)"
   ]
  },
  {
   "cell_type": "code",
   "execution_count": 35,
   "id": "3cf64350-b1c2-45a3-bdf4-7aaa1298f273",
   "metadata": {},
   "outputs": [],
   "source": [
    "def EFD_bnds(data, class_num):\n",
    "    out = data.copy() # data=(6930)\n",
    "    out_sorted = np.sort(out)\n",
    "    if len(data)%class_num != 0:\n",
    "        print('class_num is wrong')\n",
    "    else:\n",
    "        batch_sample = int(len(data)/class_num)\n",
    "    \n",
    "    out_bnd = [out_sorted[i] for i in range(0, len(out_sorted), batch_sample)]\n",
    "    out_bnd.append(out_sorted[-1])\n",
    "    out_bnd = np.array(out_bnd)\n",
    "    out_bnds = np.empty((len(out_bnd) - 1, 2))\n",
    "    for i in range(len(out_bnds)):\n",
    "        out_bnds[i, 0] = out_bnd[i]\n",
    "        out_bnds[i, 1] = out_bnd[i + 1]\n",
    "    return out_bnds #out_bnds=(class_num+1,2)"
   ]
  },
  {
   "cell_type": "code",
   "execution_count": 50,
   "id": "c1612138-4895-4ad4-bf23-d75965728aeb",
   "metadata": {},
   "outputs": [],
   "source": [
    "import bisect\n",
    "\n",
    "def EFD_trans(data, bnd):\n",
    "    out = data.copy() # data=(6930)\n",
    "    out_class = np.empty(len(out))\n",
    "    for i, value in enumerate(out):\n",
    "        label = bisect.bisect(bnd, value) # giving label number\n",
    "        out_class[i] = int(label - 1)\n",
    "    return out_class # out_class=(6930)"
   ]
  },
  {
   "cell_type": "code",
   "execution_count": 51,
   "id": "a0d64e56-9237-4991-bb4b-3a5f358e4770",
   "metadata": {},
   "outputs": [],
   "source": [
    "import matplotlib.pyplot as plt\n",
    "\n",
    "def draw_disc(data, class_bnds):\n",
    "    plt.style.use('fivethirtyeight')\n",
    "    fig = plt.figure()\n",
    "    ax = plt.subplot()\n",
    "    ax.hist(data, bins=1000, alpha=.5, color='darkcyan')\n",
    "    \n",
    "    val_list = []\n",
    "    for i in class_bnds:\n",
    "        print(i)\n",
    "        val_list.append(i[0])\n",
    "        ax.axvline(i[0], \n",
    "                   ymin=0, \n",
    "                   ymax=len(data), \n",
    "                   alpha=.8,\n",
    "                   color='salmon')\n",
    "    ax.axvline(class_bnds[-1, 1],\n",
    "               ymin=0,\n",
    "               ymax=len(data),\n",
    "               alpha=.8,\n",
    "               color='salmon')"
   ]
  },
  {
   "cell_type": "code",
   "execution_count": 85,
   "id": "dabedde1-b726-4d93-879b-b6510d965301",
   "metadata": {},
   "outputs": [],
   "source": [
    "import matplotlib as mpl\n",
    "import matplotlib.pyplot as plt\n",
    "import matplotlib.colors as colors\n",
    "import cartopy.crs as ccrs\n",
    "\n",
    "def show_class(image): \n",
    "    cmap = plt.cm.get_cmap('BrBG', 5) #class_num=5\n",
    "    bounds = [-0.5, 0.5, 1.5, 2.5, 3.5, 4.5]\n",
    "    norm = mpl.colors.BoundaryNorm(bounds, cmap.N)\n",
    "    ticks = [0, 1, 2, 3, 4]\n",
    "    \n",
    "    projection = ccrs.PlateCarree(central_longitude=180)\n",
    "    img_extent = (-90,-70, 5, 25) #location=(n5-25, e90-110)\n",
    "    fig = plt.figure()\n",
    "    ax = plt.subplot(projection=projection)\n",
    "    ax.coastlines()\n",
    "    mat = ax.matshow(image,\n",
    "                     origin='upper',\n",
    "                     extent=img_extent,\n",
    "                     transform=projection,\n",
    "                     norm=norm,\n",
    "                     cmap=cmap)\n",
    "    cbar = fig.colorbar(mat,\n",
    "                        ax=ax,\n",
    "                        extend='both',\n",
    "                        ticks=ticks,\n",
    "                        spacing='proportional',\n",
    "                        orientation='vertical')\n",
    "    cbar.ax.set_yticklabels(['low', 'mid-low', 'normal', 'mid-high', 'high'])"
   ]
  },
  {
   "cell_type": "code",
   "execution_count": null,
   "id": "e8244279-666a-416f-8b02-cef81dc58c37",
   "metadata": {},
   "outputs": [],
   "source": [
    "def with_continuous(image): \n",
    "    cmap = plt.cm.get_cmap('BrBG', 5) #class_num=5\n",
    "    bounds = [-0.5, 0.5, 1.5, 2.5, 3.5, 4.5]\n",
    "    norm = mpl.colors.BoundaryNorm(bounds, cmap.N)\n",
    "    ticks = [-0.5, 0, 0.5, 1, 1.5, 2, 2.5, 3, 3.5, 4, 4.5]\n",
    "    \n",
    "    projection = ccrs.PlateCarree(central_longitude=180)\n",
    "    img_extent = (-90,-70, 5, 25) #location=(n5-25, e90-110)\n",
    "    fig = plt.figure()\n",
    "    ax = plt.subplot(projection=projection)\n",
    "    ax.coastlines()\n",
    "    mat = ax.matshow(image,\n",
    "                     origin='upper',\n",
    "                     extent=img_extent,\n",
    "                     transform=projection,\n",
    "                     norm=norm,\n",
    "                     cmap=cmap)\n",
    "    cbar = fig.colorbar(mat,\n",
    "                        ax=ax,\n",
    "                        extend='both',\n",
    "                        ticks=ticks,\n",
    "                        spacing='proportional',\n",
    "                        orientation='vertical')\n",
    "    cbar.ax.set_yticklabels(['-2.56', 'low', '-0.35', 'mid-low', '-0.12', \n",
    "                             'normal', \n",
    "                             '0.09', 'mid-high', '0.34', 'high', '2.41'])"
   ]
  },
  {
   "cell_type": "markdown",
   "id": "b5c96ae7-842b-484d-9fdc-6e480f9ee093",
   "metadata": {},
   "source": [
    "# Conversion process "
   ]
  },
  {
   "cell_type": "code",
   "execution_count": 81,
   "id": "eab78cc2-a3d3-49d9-b84e-a7fe0c823acc",
   "metadata": {},
   "outputs": [],
   "source": [
    "# making just criteria using EFD\n",
    "all_grids = mjjaso_thailand.reshape(42*165*4*4)"
   ]
  },
  {
   "cell_type": "code",
   "execution_count": 82,
   "id": "47246c29-fade-4fca-88d3-8c77dc1e20ae",
   "metadata": {},
   "outputs": [
    {
     "name": "stdout",
     "output_type": "stream",
     "text": [
      "[-2.55724449 -0.3464569 ]\n",
      "[-0.3464569  -0.11697715]\n",
      "[-0.11697715  0.08635858]\n",
      "[0.08635858 0.33660306]\n",
      "[0.33660306 2.40526887]\n"
     ]
    },
    {
     "data": {
      "image/png": "[encoded data removed]",
      "text/plain": [
       "<Figure size 640x480 with 1 Axes>"
      ]
     },
     "metadata": {},
     "output_type": "display_data"
    }
   ],
   "source": [
    "efd_bnds = EFD_bnds(all_grids, 5)\n",
    "draw_disc(allgrids, efd_bnds)"
   ]
  },
  {
   "cell_type": "code",
   "execution_count": 83,
   "id": "c45f8df9-d0b7-4e1d-8cc2-efda90662a07",
   "metadata": {},
   "outputs": [
    {
     "name": "stdout",
     "output_type": "stream",
     "text": [
      "(42, 165, 4, 4)\n"
     ]
    }
   ],
   "source": [
    "mjjso_thailand_class = np.empty(mjjaso_thailand.shape) \n",
    "for i in range(4):\n",
    "    for j in range(4):\n",
    "        grid = mjjaso_thailand[:,:,i,j].reshape(42*165)\n",
    "        efd_class = EFD_trans(grid, efd_bnds[:,0]).reshape(42, 165)\n",
    "        mjjso_thailand_class[:,:,i,j] = efd_class\n",
    "print(mjjso_thailand_class.shape)"
   ]
  },
  {
   "cell_type": "code",
   "execution_count": 79,
   "id": "876e3cab-960d-42f3-ab2e-58c8cbed2487",
   "metadata": {},
   "outputs": [
    {
     "name": "stdout",
     "output_type": "stream",
     "text": [
      "4.0\n",
      "0.0\n",
      "[[3. 4. 4. 4.]\n",
      " [4. 4. 2. 3.]\n",
      " [3. 1. 2. 4.]\n",
      " [2. 1. 1. 1.]]\n"
     ]
    }
   ],
   "source": [
    "print(max(mjjso_thailand_class.reshape(42*165*4*4)))\n",
    "print(min(mjjso_thailand_class.reshape(42*165*4*4)))\n",
    "print(mjjso_thailand_class[0,0,:,:])"
   ]
  },
  {
   "cell_type": "code",
   "execution_count": 86,
   "id": "686d36b4-94db-4a67-82aa-9d83b3b4488e",
   "metadata": {},
   "outputs": [
    {
     "data": {
      "image/png": "[encoded data removed]",
      "text/plain": [
       "<Figure size 640x480 with 2 Axes>"
      ]
     },
     "metadata": {},
     "output_type": "display_data"
    }
   ],
   "source": [
    "show_class(mjjso_thailand_class[0,0,:,:]) "
   ]
  },
  {
   "cell_type": "markdown",
   "id": "0f8d6707-7fd1-4afe-88d9-1f5da467cc0d",
   "metadata": {},
   "source": [
    "# position check"
   ]
  },
  {
   "cell_type": "code",
   "execution_count": 71,
   "id": "53469fd5-3b99-4084-b908-e25be462874e",
   "metadata": {},
   "outputs": [
    {
     "name": "stdout",
     "output_type": "stream",
     "text": [
      "[[[[  0   1   2   3   4]\n",
      "   [  5   6   7   8   9]\n",
      "   [ 10  11  12  13  14]\n",
      "   [ 15  16  17  18  19]]\n",
      "\n",
      "  [[ 20  21  22  23  24]\n",
      "   [ 25  26  27  28  29]\n",
      "   [ 30  31  32  33  34]\n",
      "   [ 35  36  37  38  39]]\n",
      "\n",
      "  [[ 40  41  42  43  44]\n",
      "   [ 45  46  47  48  49]\n",
      "   [ 50  51  52  53  54]\n",
      "   [ 55  56  57  58  59]]]\n",
      "\n",
      "\n",
      " [[[ 60  61  62  63  64]\n",
      "   [ 65  66  67  68  69]\n",
      "   [ 70  71  72  73  74]\n",
      "   [ 75  76  77  78  79]]\n",
      "\n",
      "  [[ 80  81  82  83  84]\n",
      "   [ 85  86  87  88  89]\n",
      "   [ 90  91  92  93  94]\n",
      "   [ 95  96  97  98  99]]\n",
      "\n",
      "  [[100 101 102 103 104]\n",
      "   [105 106 107 108 109]\n",
      "   [110 111 112 113 114]\n",
      "   [115 116 117 118 119]]]]\n",
      "[[[[0. 0. 0. 0. 0.]\n",
      "   [0. 0. 0. 0. 0.]\n",
      "   [0. 0. 0. 0. 0.]\n",
      "   [0. 0. 0. 0. 0.]]\n",
      "\n",
      "  [[0. 0. 0. 0. 1.]\n",
      "   [1. 1. 1. 1. 1.]\n",
      "   [1. 1. 1. 1. 1.]\n",
      "   [1. 1. 1. 1. 1.]]\n",
      "\n",
      "  [[1. 1. 1. 1. 1.]\n",
      "   [1. 1. 1. 2. 2.]\n",
      "   [2. 2. 2. 2. 2.]\n",
      "   [2. 2. 2. 2. 2.]]]\n",
      "\n",
      "\n",
      " [[[2. 2. 2. 2. 2.]\n",
      "   [2. 2. 2. 2. 2.]\n",
      "   [2. 2. 3. 3. 3.]\n",
      "   [3. 3. 3. 3. 3.]]\n",
      "\n",
      "  [[3. 3. 3. 3. 3.]\n",
      "   [3. 3. 3. 3. 3.]\n",
      "   [3. 3. 3. 3. 3.]\n",
      "   [3. 4. 4. 4. 4.]]\n",
      "\n",
      "  [[4. 4. 4. 4. 4.]\n",
      "   [4. 4. 4. 4. 4.]\n",
      "   [4. 4. 4. 4. 4.]\n",
      "   [4. 4. 4. 4. 4.]]]]\n"
     ]
    }
   ],
   "source": [
    "def test(): # check if reshape changes position of index\n",
    "    data = np.arange(2*3*4*5).reshape(2,3,4,5)\n",
    "    bnd = [0, 24, 48, 72, 96]\n",
    "    print(data)\n",
    "    \n",
    "    tmp = np.empty(data.shape) \n",
    "    for i in range(4):\n",
    "        for j in range(5):\n",
    "            grid = data[:,:,i,j].reshape(2*3)\n",
    "            efd_class = EFD_trans(grid, bnd).reshape(2,3)\n",
    "            tmp[:,:,i,j] = efd_class\n",
    "    print(tmp)\n",
    "\n",
    "test()"
   ]
  },
  {
   "cell_type": "code",
   "execution_count": null,
   "id": "03c11139-c281-4943-a251-77ddcd38dc9f",
   "metadata": {},
   "outputs": [],
   "source": []
  }
 ],
 "metadata": {
  "kernelspec": {
   "display_name": "Python 3 (ipykernel)",
   "language": "python",
   "name": "python3"
  },
  "language_info": {
   "codemirror_mode": {
    "name": "ipython",
    "version": 3
   },
   "file_extension": ".py",
   "mimetype": "text/x-python",
   "name": "python",
   "nbconvert_exporter": "python",
   "pygments_lexer": "ipython3",
   "version": "3.9.0"
  }
 },
 "nbformat": 4,
 "nbformat_minor": 5
}
