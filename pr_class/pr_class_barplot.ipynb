{
 "cells": [
  {
   "cell_type": "code",
   "execution_count": null,
   "id": "c5a0084d-99db-4a04-8ba0-a696d5e2bed6",
   "metadata": {},
   "outputs": [],
   "source": [
    "def draw_val(pred, y_train, y_val, class_bnds, batch_size, class_num):\n",
    "    plt.style.use('fivethirtyeight')\n",
    "    fig = plt.figure()\n",
    "    ax = plt.subplot()\n",
    "    ax.hist(y_train, bins=100, alpha=.5, color='darkcyan')\n",
    "    \n",
    "    val_list = []\n",
    "    for i in class_bnds:\n",
    "        val_list.append(i[0])\n",
    "        ax.axvline(i[0], \n",
    "                   ymin=0, \n",
    "                   ymax=batch_size*class_num, \n",
    "                   alpha=.8,\n",
    "                   color='salmon')\n",
    "    ax.axvline(class_bnds[-1, 1],\n",
    "               ymin=0,\n",
    "               ymax=batch_size*class_num, \n",
    "               alpha=.8,\n",
    "               color='salmon')\n",
    "    \n",
    "    val_true = []\n",
    "    val_false = []\n",
    "    for i, j in zip(pred, y_val):\n",
    "        if np.argmax(i) == np.argmax(j):\n",
    "            val_true.appedn(val_list[np.argmax(i)])\n",
    "        else:\n",
    "            val_false.append(val_list[np.argmax(i)])\n",
    "        \n",
    "    width, linewidth, align = 0.4, 0, 'edge'\n",
    "    \n",
    "    val_tcount = [val_true.count(j) for j in val_list]\n",
    "    ax.bar(val_list,\n",
    "           val_tcount,\n",
    "           color='darkslategray',\n",
    "           width=width,\n",
    "           linewidth=linewidth,\n",
    "           align=align)\n",
    "    \n",
    "    val_fcount = [val_false.count(j) for j in val_list]\n",
    "    ax.br(val_list,\n",
    "          val_fcount,\n",
    "          color='orange',\n",
    "          bottom = val_tcount,\n",
    "          width=width,\n",
    "          linewidth=linewidth,\n",
    "          align=align,\n",
    "          alpha=.8)"
   ]
  }
 ],
 "metadata": {
  "kernelspec": {
   "display_name": "Python 3 (ipykernel)",
   "language": "python",
   "name": "python3"
  },
  "language_info": {
   "codemirror_mode": {
    "name": "ipython",
    "version": 3
   },
   "file_extension": ".py",
   "mimetype": "text/x-python",
   "name": "python",
   "nbconvert_exporter": "python",
   "pygments_lexer": "ipython3",
   "version": "3.9.0"
  }
 },
 "nbformat": 4,
 "nbformat_minor": 5
}
