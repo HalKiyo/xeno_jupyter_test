{
 "cells": [
  {
   "cell_type": "code",
   "execution_count": 3,
   "id": "0cd5bebd-0c17-4838-afb1-d211b061e307",
   "metadata": {},
   "outputs": [
    {
     "name": "stdout",
     "output_type": "stream",
     "text": [
      "True\n"
     ]
    }
   ],
   "source": [
    "from os.path import exists\n",
    "\n",
    "mjjaso_path = '/work/kajiyama/cnn/input/pr/thailand/5x5/pr_5x5_coarse_std_MJJASO_thailand.npy'\n",
    "\n",
    "path_list = [mjjaso_path]\n",
    "for i in path_list:\n",
    "    print(exists(i))"
   ]
  },
  {
   "cell_type": "code",
   "execution_count": 4,
   "id": "fa491c5f-a2b9-4b3e-86fa-461b52ed129b",
   "metadata": {},
   "outputs": [],
   "source": [
    "import numpy as np\n",
    "\n",
    "mjjaso_thailand = np.load(mjjaso_path) #mjjaso[42, 165, 4, 4]"
   ]
  },
  {
   "cell_type": "code",
   "execution_count": 5,
   "id": "b21d482d-844d-49b9-a47d-63a0a85d6011",
   "metadata": {},
   "outputs": [],
   "source": [
    "import bisect\n",
    "\n",
    "def EFD(data, class_num):\n",
    "    out = data.copy() # data=(6930)\n",
    "    out_sorted = np.sort(out)\n",
    "    if len(data)%class_num != 0:\n",
    "        print('class_num is wrong')\n",
    "    else:\n",
    "        batch_sample = int(len(data)/class_num)\n",
    "    \n",
    "    out_bnd = [out_sorted[i] for i in range(0, len(out_sorted), batch_sample)]\n",
    "    out_class = np.empty(len(out_sorted))\n",
    "    for i, value in enumerate(out):\n",
    "        label = bisect.bisect(out_bnd, value) # giving label number\n",
    "        out_class[i] = int(label - 1)\n",
    "    \n",
    "    out_bnd.append(out_sorted[-1])\n",
    "    out_bnd = np.array(out_bnd)\n",
    "    out_bnds = np.empty((len(out_bnd) - 1, 2))\n",
    "    for i in range(len(out_bnds)):\n",
    "        out_bnds[i, 0] = out_bnd[i]\n",
    "        out_bnds[i, 1] = out_bnd[i + 1]\n",
    "    return out_class, out_bnds # out_class=(6930), out_bnds=(class_num+1,2)"
   ]
  },
  {
   "cell_type": "code",
   "execution_count": 6,
   "id": "22ad3fc1-2d00-411e-8f7a-c1897c89d244",
   "metadata": {},
   "outputs": [
    {
     "name": "stdout",
     "output_type": "stream",
     "text": [
      "(42, 165, 4, 4)\n"
     ]
    }
   ],
   "source": [
    "print(mjjaso_thailand.shape)"
   ]
  },
  {
   "cell_type": "code",
   "execution_count": 7,
   "id": "1790485b-a58b-491c-85ee-c68a711f68ee",
   "metadata": {},
   "outputs": [
    {
     "data": {
      "text/plain": [
       "<matplotlib.image.AxesImage at 0x2af39766afa0>"
      ]
     },
     "execution_count": 7,
     "metadata": {},
     "output_type": "execute_result"
    },
    {
     "data": {
      "image/png": "[encoded data removed]",
      "text/plain": [
       "<Figure size 480x480 with 1 Axes>"
      ]
     },
     "metadata": {},
     "output_type": "display_data"
    }
   ],
   "source": [
    "import matplotlib.pyplot as plt\n",
    "plt.matshow(mjjaso_thailand[0, 0, :, :], )"
   ]
  },
  {
   "cell_type": "code",
   "execution_count": null,
   "id": "fbbedc5e-283c-42f5-8655-1fd95078fe81",
   "metadata": {},
   "outputs": [],
   "source": []
  }
 ],
 "metadata": {
  "kernelspec": {
   "display_name": "Python 3 (ipykernel)",
   "language": "python",
   "name": "python3"
  },
  "language_info": {
   "codemirror_mode": {
    "name": "ipython",
    "version": 3
   },
   "file_extension": ".py",
   "mimetype": "text/x-python",
   "name": "python",
   "nbconvert_exporter": "python",
   "pygments_lexer": "ipython3",
   "version": "3.9.0"
  }
 },
 "nbformat": 4,
 "nbformat_minor": 5
}
