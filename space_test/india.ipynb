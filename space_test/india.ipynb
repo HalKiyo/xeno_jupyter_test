{
 "cells": [
  {
   "cell_type": "code",
   "execution_count": null,
   "id": "ddd8bcad-20c3-4496-8b80-11c15801c16b",
   "metadata": {},
   "outputs": [],
   "source": [
    "india"
   ]
  }
 ],
 "metadata": {
  "kernelspec": {
   "display_name": "Python 3 (ipykernel)",
   "language": "python",
   "name": "python3"
  },
  "language_info": {
   "codemirror_mode": {
    "name": "ipython",
    "version": 3
   },
   "file_extension": ".py",
   "mimetype": "text/x-python",
   "name": "python",
   "nbconvert_exporter": "python",
   "pygments_lexer": "ipython3",
   "version": "3.9.0"
  }
 },
 "nbformat": 4,
 "nbformat_minor": 5
}
