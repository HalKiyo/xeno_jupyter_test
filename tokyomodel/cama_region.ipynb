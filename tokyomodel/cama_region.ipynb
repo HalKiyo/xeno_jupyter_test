{
 "cells": [
  {
   "cell_type": "code",
   "execution_count": 1,
   "id": "a73867ae-1733-4fbb-92f0-25be5a353a4f",
   "metadata": {},
   "outputs": [],
   "source": [
    "import numpy as np\n",
    "import matplotlib.pyplot as plt\n",
    "import cartopy.crs as ccrs"
   ]
  },
  {
   "cell_type": "code",
   "execution_count": 10,
   "id": "f7c5b37f-93f6-4448-b95c-4a7dce51cb0f",
   "metadata": {},
   "outputs": [
    {
     "name": "stdout",
     "output_type": "stream",
     "text": [
      "624 672 3816 3852\n"
     ]
    }
   ],
   "source": [
    "h08dir = '/home/kajiyama/H08/H08_20230612'\n",
    "SUF = '.gl5'\n",
    "tag = '.tk5'\n",
    "dtype = 'float32'\n",
    "gl5shape = (2160, 4320)\n",
    "\n",
    "# tokyo region\n",
    "# \"138 141 34 38\"\n",
    "one = 138\n",
    "two = 141\n",
    "three = 34\n",
    "four = 38\n",
    "upperindex = (90-four)*12\n",
    "lowerindex = (90-three)*12\n",
    "leftindex = (180+one)*12\n",
    "rightindex = (180+two)*12\n",
    "print(upperindex, lowerindex, leftindex, rightindex)"
   ]
  },
  {
   "cell_type": "code",
   "execution_count": 11,
   "id": "a16aca3f-ceb7-4323-b0f9-5279cd6c6e94",
   "metadata": {},
   "outputs": [],
   "source": [
    "# instead of prep_lnd_region.sh\n",
    "lndara_path = f\"{h08dir}/map/dat/lnd_ara_/lndara.CAMA{SUF}\"\n",
    "rivnxl_path = f\"{h08dir}/map/out/riv_nxl_/rivnxl.CAMA{SUF}\"\n",
    "rivseq_path = f\"{h08dir}/map/out/riv_seq_/rivseq.CAMA{SUF}\"\n",
    "rivnum_path = f\"{h08dir}/map/out/riv_num_/rivnum.CAMA{SUF}\"\n",
    "rivara_path = f\"{h08dir}/map/out/riv_ara_/rivara.CAMA{SUF}\"\n",
    "rivnxd_path = f\"{h08dir}/map/out/riv_nxd_/rivnxd.CAMA{SUF}\"\n",
    "rivmou_path = f\"{h08dir}/map/out/riv_mou_/rivmou.CAMA{SUF}\"\n",
    "elevtn_path = f\"{h08dir}/map/dat/elv_min_/elevtn.CAMA{SUF}\"\n",
    "path_list_load = [lndara_path, rivnxl_path, rivseq_path, rivnum_path, rivara_path, rivnxd_path, rivmou_path, elevtn_path]\n",
    "\n",
    "lndara_path = f\"{h08dir}/map/dat/lnd_ara_/lndara.CAMA{tag}\"\n",
    "rivnxl_path = f\"{h08dir}/map/out/riv_nxl_/rivnxl.CAMA{tag}\"\n",
    "rivseq_path = f\"{h08dir}/map/out/riv_seq_/rivseq.CAMA{tag}\"\n",
    "rivnum_path = f\"{h08dir}/map/out/riv_num_/rivnum.CAMA{tag}\"\n",
    "rivara_path = f\"{h08dir}/map/out/riv_ara_/rivara.CAMA{tag}\"\n",
    "rivnxd_path = f\"{h08dir}/map/out/riv_nxd_/rivnxd.CAMA{tag}\"\n",
    "rivmou_path = f\"{h08dir}/map/out/riv_mou_/rivmou.CAMA{tag}\"\n",
    "elevtn_path = f\"{h08dir}/map/dat/elv_min_/elevtn.CAMA{tag}\"\n",
    "path_list_save = [lndara_path, rivnxl_path, rivseq_path, rivnum_path, rivara_path, rivnxd_path, rivmou_path, elevtn_path]"
   ]
  },
  {
   "cell_type": "code",
   "execution_count": 12,
   "id": "8e046722-6e27-4613-8199-9b7c89c35192",
   "metadata": {},
   "outputs": [],
   "source": [
    "# meteorological forcing data should be also replaced\n",
    "# it's done in /met/pre/extract_region.py"
   ]
  },
  {
   "cell_type": "code",
   "execution_count": 13,
   "id": "6e417dbe-ee28-4ef5-b0ef-03bec4675a22",
   "metadata": {},
   "outputs": [],
   "source": [
    "# save the file\n",
    "save_flag = False\n",
    "if save_flag is True:\n",
    "    for loadfile, savefile in zip(path_list_load, path_list_save):\n",
    "        data = np.fromfile(loadfile, dtype=dtype).reshape(gl5shape)\n",
    "        tokyo = data[upperindex:lowerindex, leftindex:rightindex]\n",
    "        tokyo.astype(np.float32).tofile(savefile)"
   ]
  },
  {
   "cell_type": "code",
   "execution_count": null,
   "id": "cc6401ca-0a77-4a5e-b398-62a409248b03",
   "metadata": {},
   "outputs": [],
   "source": []
  }
 ],
 "metadata": {
  "kernelspec": {
   "display_name": "Python 3 (ipykernel)",
   "language": "python",
   "name": "python3"
  },
  "language_info": {
   "codemirror_mode": {
    "name": "ipython",
    "version": 3
   },
   "file_extension": ".py",
   "mimetype": "text/x-python",
   "name": "python",
   "nbconvert_exporter": "python",
   "pygments_lexer": "ipython3",
   "version": "3.9.0"
  }
 },
 "nbformat": 4,
 "nbformat_minor": 5
}
