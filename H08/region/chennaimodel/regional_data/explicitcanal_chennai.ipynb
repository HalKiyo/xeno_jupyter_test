{
 "cells": [
  {
   "cell_type": "code",
   "execution_count": 1,
   "id": "a73867ae-1733-4fbb-92f0-25be5a353a4f",
   "metadata": {},
   "outputs": [],
   "source": [
    "import os\n",
    "import numpy as np\n",
    "import matplotlib.pyplot as plt\n",
    "import cartopy.crs as ccrs\n",
    "import pprint"
   ]
  },
  {
   "cell_type": "code",
   "execution_count": 2,
   "id": "f7c5b37f-93f6-4448-b95c-4a7dce51cb0f",
   "metadata": {},
   "outputs": [
    {
     "name": "stdout",
     "output_type": "stream",
     "text": [
      "900 948 3096 3132\n"
     ]
    }
   ],
   "source": [
    "h08dir = '/home/kajiyama/H08/H08_20230612'\n",
    "SUF = '.gl5'\n",
    "tag = '.ch5'\n",
    "dtype = 'float32'\n",
    "gl5shape = (2160, 4320)\n",
    "hlfshape = (360, 720)\n",
    "# ny, nx\n",
    "rgnshape = (48, 36)\n",
    "#\n",
    "one = 78\n",
    "two = 81\n",
    "three = 11\n",
    "four = 15\n",
    "upperindex = (90-four)*12\n",
    "lowerindex = (90-three)*12\n",
    "leftindex = (180+one)*12\n",
    "rightindex = (180+two)*12\n",
    "print(upperindex, lowerindex, leftindex, rightindex)"
   ]
  },
  {
   "cell_type": "code",
   "execution_count": 3,
   "id": "8d2614c5-bff2-4b0e-a912-7f14e7eaf60c",
   "metadata": {},
   "outputs": [],
   "source": [
    "# original\n",
    "# map/org/Aoba/existing_origin.gl5\n",
    "# map/org/Aoba/existing_destination_1.gl5\n",
    "#\n",
    "# prep_map_lcan_gl5.sh\n",
    "# map/out/can_org_/canorg.x.within.1.CAMA.gl5\n",
    "# map/out/can_org_/canorg.y.within.1.CAMA.gl5\n",
    "# map/out/can_org_/canorg.l.within.1.CAMA.gl5\n",
    "# map/out/can_des_/candes.l.within.1.CAMA.bin\n",
    "# map/out/can_sco_/cansco.within.1.CAMA.gl5\n",
    "# map/out/can_cnt_/cancnt.within.1.CAMA.gl5\n",
    "#\n",
    "# prep_map_K14_gl5.sh\n",
    "# map/out/can_org_/canorg.l.canal.ext.gl5\n",
    "# map/out/can_des_/canorg.l.canal.ext.bin\n",
    "# map/out/can_org_/canorg.l.merged.ext.1.CAMA.gl5\n",
    "# map/out/can_des_/candes.l.merged.ext.1.CAMA.bin"
   ]
  },
  {
   "cell_type": "code",
   "execution_count": 4,
   "id": "eb33a0c9-5be7-4c78-96eb-911d1fe0a0c8",
   "metadata": {},
   "outputs": [],
   "source": [
    "mrg_des_l_load_path = f\"{h08dir}/map/out/can_des_/candes.l.merged.ext.1.CAMA.bin\"\n",
    "# このファイルはL座標の変換が必要になるため領域化には適していない\n",
    "# orgの元ファイルを渡して，その値から計算するのがよいと考えられる\n",
    "# またはexplicitを全く含んでいないファイルを渡して，implicitのみを標高データから計算したmergedファイルを領域モデルで作成性させる方法がよい"
   ]
  },
  {
   "cell_type": "code",
   "execution_count": 5,
   "id": "2d818eab-a463-4f19-a5fe-082370252468",
   "metadata": {},
   "outputs": [
    {
     "data": {
      "image/png": "[encoded data removed]",
      "text/plain": [
       "<Figure size 640x480 with 1 Axes>"
      ]
     },
     "metadata": {},
     "output_type": "display_data"
    },
    {
     "data": {
      "image/png": "[encoded data removed]",
      "text/plain": [
       "<Figure size 640x480 with 1 Axes>"
      ]
     },
     "metadata": {},
     "output_type": "display_data"
    }
   ],
   "source": [
    "# original\n",
    "origin_path = f'{h08dir}/map/org/Aoba/existing_origin{SUF}'\n",
    "destination_path = f'{h08dir}/map/org/Aoba/existing_destination_1{SUF}'\n",
    "path_list = [origin_path, destination_path]\n",
    "\n",
    "origin = np.fromfile(origin_path, dtype=dtype).reshape(gl5shape)\n",
    "org_cropped = origin[upperindex:lowerindex, leftindex:rightindex]\n",
    "plt.imshow(org_cropped, cmap='prism_r')\n",
    "plt.show()\n",
    "\n",
    "destiantion = np.fromfile(destination_path, dtype=dtype).reshape(gl5shape)\n",
    "des_cropped = destiantion[upperindex:lowerindex, leftindex:rightindex]\n",
    "plt.imshow(des_cropped, cmap='prism_r')\n",
    "plt.show()"
   ]
  },
  {
   "cell_type": "code",
   "execution_count": 6,
   "id": "6e417dbe-ee28-4ef5-b0ef-03bec4675a22",
   "metadata": {},
   "outputs": [
    {
     "name": "stdout",
     "output_type": "stream",
     "text": [
      "/home/kajiyama/H08/H08_20230612/map/org/Aoba/existing_origin.gl5\n",
      "/home/kajiyama/H08/H08_20230612/map/org/Aoba/region/existing_origin.ch5\n",
      "/home/kajiyama/H08/H08_20230612/map/org/Aoba/existing_destination_1.gl5\n",
      "/home/kajiyama/H08/H08_20230612/map/org/Aoba/region/existing_destination_1.ch5\n"
     ]
    }
   ],
   "source": [
    "# save the file\n",
    "origin_save_path = f'{h08dir}/map/org/Aoba/region/existing_origin{tag}'\n",
    "destination_save_path = f'{h08dir}/map/org/Aoba/region/existing_destination_1{tag}'\n",
    "save_path_list = [origin_save_path, destination_save_path]\n",
    "\n",
    "save_flag = False\n",
    "if save_flag is True:\n",
    "    for file_path, save_path in zip(path_list, save_path_list):\n",
    "        loadfile = file_path\n",
    "        savefile = save_path\n",
    "        print(loadfile)\n",
    "        print(savefile)\n",
    "        data = np.fromfile(loadfile, dtype=dtype).reshape(gl5shape)\n",
    "        region = data[upperindex:lowerindex, leftindex:rightindex]\n",
    "        region.astype(np.float32).tofile(savefile)"
   ]
  },
  {
   "cell_type": "code",
   "execution_count": null,
   "id": "e0c617d4-89ab-4599-ae9a-7018e8f52364",
   "metadata": {},
   "outputs": [],
   "source": []
  }
 ],
 "metadata": {
  "kernelspec": {
   "display_name": "Python 3 (ipykernel)",
   "language": "python",
   "name": "python3"
  },
  "language_info": {
   "codemirror_mode": {
    "name": "ipython",
    "version": 3
   },
   "file_extension": ".py",
   "mimetype": "text/x-python",
   "name": "python",
   "nbconvert_exporter": "python",
   "pygments_lexer": "ipython3",
   "version": "3.9.0"
  }
 },
 "nbformat": 4,
 "nbformat_minor": 5
}
