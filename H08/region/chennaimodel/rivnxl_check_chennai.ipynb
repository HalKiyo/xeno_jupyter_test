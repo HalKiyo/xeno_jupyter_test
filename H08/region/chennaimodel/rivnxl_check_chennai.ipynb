{
 "cells": [
  {
   "cell_type": "code",
   "execution_count": 3,
   "id": "208b95ae-b74f-4400-9bdd-e9708ffa5973",
   "metadata": {},
   "outputs": [],
   "source": [
    "import os\n",
    "import numpy as np\n",
    "import cartopy.crs as ccrs\n",
    "import cartopy.feature as cfea\n",
    "import matplotlib\n",
    "import matplotlib.pyplot as plt\n",
    "import matplotlib.colors as colors\n",
    "import matplotlib.gridspec as gridspec\n",
    "from matplotlib.colors import ListedColormap\n",
    "from matplotlib.colors import CSS4_COLORS\n",
    "from matplotlib.patches import Rectangle"
   ]
  },
  {
   "cell_type": "code",
   "execution_count": 4,
   "id": "c5cd818b-a9d0-460e-bf45-ae4c4196fcbe",
   "metadata": {},
   "outputs": [],
   "source": [
    "tag = '.ch5'\n",
    "nx, ny = 36, 48\n",
    "rgnshape = (ny, nx)\n",
    "#\n",
    "def geography():\n",
    "    lonmin = 78\n",
    "    lonmax = 81\n",
    "    latmin = 11\n",
    "    latmax = 15\n",
    "    return lonmin, lonmax, latmin, latmax\n",
    "#\n",
    "root_dir = '/home/kajiyama/H08/H08_20230612'\n",
    "rivnxl_path = f\"{root_dir}/map/out/riv_nxl_/rivnxl.CAMA{tag}\"\n",
    "rivnum_path = f\"{root_dir}/map/out/riv_num_/rivnum.CAMA{tag}\"\n",
    "rivara_path = f\"{root_dir}/map/out/riv_ara_/rivara.CAMA{tag}\"\n",
    "lndmsk_path = f\"{root_dir}/map/dat/lnd_msk_/lndmsk.CAMA{tag}\"\n",
    "rivmou_path = f\"{root_dir}/map/out/riv_mou_/rivmou.CAMA{tag}\""
   ]
  },
  {
   "cell_type": "code",
   "execution_count": 5,
   "id": "4d222083-e8fb-49ed-94f5-449963957a64",
   "metadata": {},
   "outputs": [],
   "source": [
    "g_rivnxl = np.fromfile(rivnxl_path, 'float32').reshape(rgnshape)\n",
    "g_rivnxl = np.ma.masked_where(g_rivnxl >= 1e20, g_rivnxl)\n",
    "g_rivnxl = np.ma.masked_where(~np.isfinite(g_rivnxl) | (g_rivnxl == 0), g_rivnxl)\n",
    "\n",
    "g_rivnum = np.fromfile(rivnum_path, 'float32').reshape(rgnshape)\n",
    "g_rivnum = np.ma.masked_where(g_rivnum >= 1e20, g_rivnum)\n",
    "g_rivnum = np.ma.masked_where(~np.isfinite(g_rivnum) | (g_rivnum == 0), g_rivnum)\n",
    "\n",
    "g_rivara = np.fromfile(rivara_path, 'float32').reshape(rgnshape)\n",
    "g_rivara = np.ma.masked_where(g_rivara >= 1e20, g_rivara)\n",
    "g_rivara = np.ma.masked_where(~np.isfinite(g_rivara) | (g_rivara == 0), g_rivara)\n",
    "\n",
    "g_lndmsk = np.fromfile(lndmsk_path, 'float32').reshape(rgnshape)"
   ]
  },
  {
   "cell_type": "code",
   "execution_count": 6,
   "id": "706a5741-406c-4046-9880-7aed1301ff38",
   "metadata": {},
   "outputs": [
    {
     "data": {
      "text/plain": [
       "<matplotlib.image.AxesImage at 0x2ad117755eb0>"
      ]
     },
     "execution_count": 6,
     "metadata": {},
     "output_type": "execute_result"
    },
    {
     "data": {
      "image/png": "[encoded data removed]",
      "text/plain": [
       "<Figure size 640x480 with 1 Axes>"
      ]
     },
     "metadata": {},
     "output_type": "display_data"
    }
   ],
   "source": [
    "dtype = [('rivara', 'float32'), ('rivnum', 'float32')]\n",
    "g_ara_num = np.empty(g_rivara.shape, dtype=dtype)\n",
    "g_ara_num['rivara'] = g_rivara\n",
    "g_ara_num['rivnum'] = g_rivnum\n",
    "rivmou_estimated = np.ma.masked_all(g_ara_num.shape, dtype='float32')\n",
    "\n",
    "unique_values, counts = np.unique(g_rivnum.compressed(), return_counts=True)\n",
    "value_counts_dict = dict(zip(unique_values, counts))\n",
    "\n",
    "for rivnum_id in value_counts_dict.keys():\n",
    "    matching_positions = np.where(g_ara_num['rivnum'] == rivnum_id)\n",
    "    max_rivara_postion = np.argmax(g_ara_num['rivara'][matching_positions])\n",
    "    rivmou_estimated[matching_positions[0][max_rivara_postion], matching_positions[1][max_rivara_postion]] = rivnum_id\n",
    "\n",
    "plt.imshow(rivmou_estimated, cmap='tab20')"
   ]
  },
  {
   "cell_type": "code",
   "execution_count": 7,
   "id": "578ab7b6-1af1-4627-8395-6e0677d78a67",
   "metadata": {},
   "outputs": [
    {
     "name": "stdout",
     "output_type": "stream",
     "text": [
      "unique id of basins: [ 2699.  8632.  9805. 11389.]\n"
     ]
    }
   ],
   "source": [
    "def l_coordinate_to_tuple(lcoordinate, a=2160, b=4320):\n",
    "    lat_l = ((lcoordinate - 1) // b)\n",
    "    lon_l = (lcoordinate) % b - 1\n",
    "    return (lat_l, lon_l)\n",
    "\n",
    "# l coordinate >>> xy coordinate\n",
    "vfunc = np.vectorize(l_coordinate_to_tuple, otypes=[tuple])\n",
    "result = np.empty(g_rivnxl.shape, dtype=tuple)\n",
    "mask = ~np.isnan(g_rivnxl)\n",
    "result[mask] = vfunc(g_rivnxl[mask], a=ny, b=nx)\n",
    "\n",
    "# make result_array (rgnshape, 2) with xy mesh data\n",
    "result_list = []\n",
    "for row in result:\n",
    "    for x, y in row:\n",
    "        result_list.append((x, y))\n",
    "result_shape = (result.shape[0], result.shape[1], 2)\n",
    "result_array = np.array(result_list).reshape(result_shape)\n",
    "result_array = result_array.astype(int)\n",
    "\n",
    "# prepare empty variables\n",
    "result_dict = {}\n",
    "unique_ids = np.unique(rivmou_estimated.compressed())\n",
    "riv_path_array = np.ma.masked_all(rivmou_estimated.shape, dtype='float32')\n",
    "visited_coords = set()\n",
    "print(f'unique id of basins: {unique_ids}')\n",
    "\n",
    "# basin number loop\n",
    "for uid in unique_ids:\n",
    "    coords_a = np.argwhere(rivmou_estimated == uid)\n",
    "    riv_path_array[coords_a[0][0], coords_a[0][1]] = uid\n",
    "    if coords_a.size > 0:\n",
    "        target_coord = tuple(coords_a[0])\n",
    "        path_coords = [target_coord]\n",
    "        for _ in range(300):\n",
    "            if target_coord in visited_coords:\n",
    "                break\n",
    "            visited_coords.add(target_coord)\n",
    "            matched_coords = np.argwhere(np.all(target_coord == result_array, axis=2))\n",
    "            if len(matched_coords) == 0:\n",
    "                break\n",
    "            # choose max rivara among mached indicies\n",
    "            unvisited_matched = [tuple(coord) for coord in matched_coords if tuple(coord) not in visited_coords]\n",
    "            if not unvisited_matched:\n",
    "                break\n",
    "            rivara_values = [g_rivara[coord[0], coord[1]] for coord in unvisited_matched]\n",
    "            max_index = np.argmax(rivara_values)\n",
    "            best_coord = unvisited_matched[max_index]\n",
    "            riv_path_array[best_coord[0], best_coord[1]] = uid\n",
    "            target_coord = best_coord\n",
    "            path_coords.append(target_coord)\n",
    "        result_dict[uid] = path_coords"
   ]
  },
  {
   "cell_type": "code",
   "execution_count": 8,
   "id": "c9ad9464-5dcf-45d7-af34-ce5a954b06c8",
   "metadata": {},
   "outputs": [],
   "source": [
    "def get_unique_non_masked_values(values):\n",
    "    result = []\n",
    "    for value in np.unique(values):\n",
    "        if value is not np.ma.masked and not np.isnan(value):\n",
    "            result.append(value)\n",
    "    return result\n",
    "\n",
    "def is_whiteish(color):\n",
    "    r, g, b = [int(color[i:i+2], 16) for i in (1, 3, 5)]  # Convert hex to RGB\n",
    "    return (r + g + b) / 3 > 230  # Check if the average is above the threshold\n",
    "\n",
    "def is_grayish(color):\n",
    "    r, g, b = [int(color[i:i+2], 16) for i in (1, 3, 5)]  # Convert hex to RGB\n",
    "    deviation = max(r, g, b) - min(r, g, b)\n",
    "    return deviation <= 20\n",
    "\n",
    "def is_blueish(color):\n",
    "    r, g, b = [int(color[i:i+2], 16) for i in (1, 3, 5)]  # Convert hex to RGB\n",
    "    return  b - r > 120 and b - g > 120  # If blue is dominant and significantly larger\n",
    "\n",
    "def get_filtered_colors(all_colors):\n",
    "    result = []\n",
    "    for color in all_colors:\n",
    "        if color != '#00FFFF' and not is_whiteish(color) and not is_grayish(color) and not is_blueish(color):\n",
    "            result.append(color)\n",
    "    return result\n",
    "\n",
    "def make_cmap(Rivnum_masked_array):\n",
    "    # ユニークな流域の数をカウント\n",
    "    unique_values = get_unique_non_masked_values(Rivnum_masked_array)\n",
    "    num_colors = len(unique_values)\n",
    "\n",
    "    # 流域に固有の色を割り振る\n",
    "    all_colors = list(CSS4_COLORS.values())\n",
    "    filtered_colors = get_filtered_colors(all_colors)\n",
    "    colors_list = filtered_colors[:num_colors]\n",
    "\n",
    "    # -1<=x<0に透明色を追加\n",
    "    colors_list.insert(0, '#00000000')\n",
    "\n",
    "    # HTMLカラーコードに変化してlisted colormap を作成\n",
    "    cmap = ListedColormap(colors_list)\n",
    "\n",
    "    # [辞書作る] key=流域ID, value=0から数えたindex　\n",
    "    index_dict = {}\n",
    "    for i, value in enumerate(unique_values):\n",
    "        index_dict[value] = i\n",
    "\n",
    "    return num_colors, index_dict, cmap\n",
    "\n",
    "def get_index(val, index_dict):\n",
    "    return index_dict.get(val, -1)  # nan or unexpected values are mapped to -1"
   ]
  },
  {
   "cell_type": "code",
   "execution_count": 9,
   "id": "a34e2bd8-ad0f-4333-9772-9acfdd559eb9",
   "metadata": {},
   "outputs": [
    {
     "name": "stdout",
     "output_type": "stream",
     "text": [
      "{2699.0: 0, 8632.0: 1, 9805.0: 2, 11389.0: 3}\n"
     ]
    },
    {
     "data": {
      "image/png": "[encoded data removed]",
      "text/plain": [
       "<Figure size 1000x1000 with 2 Axes>"
      ]
     },
     "metadata": {},
     "output_type": "display_data"
    }
   ],
   "source": [
    "def path_zorder(data, g_mask_cropped, Rivnum_masked_array, result_dict):\n",
    "    data = np.where(data<1e20, data, -1)\n",
    "    \n",
    "    num_colors, index_dict, cmap = make_cmap(Rivnum_masked_array)\n",
    "    print(index_dict)\n",
    "    \n",
    "    indexed_data = np.vectorize(get_index)(data, index_dict)\n",
    "    \n",
    "    #\n",
    "    lonmin_rgn, lonmax_rgn, latmin_rgn, latmax_rgn = geography()\n",
    "    extent = (lonmin_rgn, lonmax_rgn, latmin_rgn, latmax_rgn)\n",
    "    #\n",
    "    fig = plt.figure(figsize=(10, 10))\n",
    "    projection = ccrs.PlateCarree()\n",
    "    ax = plt.subplot(projection=projection)\n",
    "    ax.coastlines()\n",
    "    ax.set_extent(extent, projection)\n",
    "    light_gray = '#BBBBBB'\n",
    "    \n",
    "    contour = ax.contour(g_mask_cropped, levels=[0.5], colors=light_gray, linewidths=3, origin='upper', extent=extent, transform=projection, zorder=10)\n",
    "    \n",
    "    gl = ax.gridlines(draw_labels=True)\n",
    "    gl.top_labels = False\n",
    "    gl.right_labels = False\n",
    "    ax.add_feature(cfea.OCEAN, color='#d3d3d3')\n",
    "    ax.add_feature(cfea.LAKES, color='#d3d3d3')\n",
    "    \n",
    "    img = ax.imshow(indexed_data, extent=extent, transform=projection, cmap=cmap, vmin=-1, vmax=num_colors, zorder=2)\n",
    "    \n",
    "    if result_dict is not None:\n",
    "        for key, path in result_dict.items():\n",
    "            lat_coords, lon_coords = zip(*path)\n",
    "            \n",
    "            # xy coordinate >>> lonlat coordinate\n",
    "            lat_coords = [(latmax_rgn - lat/12 - 1/24) for lat in lat_coords]\n",
    "            lon_coords = [(lonmin_rgn + lon/12 + 1/24) for lon in lon_coords]\n",
    "            ax.plot(lon_coords, lat_coords, marker='o', markersize=0.4, color='black', linestyle='-', linewidth=.4, transform=projection, zorder=5)\n",
    "            \n",
    "    fig.colorbar(img, ax=ax)\n",
    "\n",
    "path_zorder(riv_path_array, g_lndmsk, g_rivnum, result_dict)"
   ]
  },
  {
   "cell_type": "code",
   "execution_count": null,
   "id": "26685aa0-3676-4bdc-8c50-16028a707166",
   "metadata": {},
   "outputs": [],
   "source": []
  }
 ],
 "metadata": {
  "kernelspec": {
   "display_name": "Python 3 (ipykernel)",
   "language": "python",
   "name": "python3"
  },
  "language_info": {
   "codemirror_mode": {
    "name": "ipython",
    "version": 3
   },
   "file_extension": ".py",
   "mimetype": "text/x-python",
   "name": "python",
   "nbconvert_exporter": "python",
   "pygments_lexer": "ipython3",
   "version": "3.9.0"
  }
 },
 "nbformat": 4,
 "nbformat_minor": 5
}
