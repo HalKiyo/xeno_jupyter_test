{
 "cells": [
  {
   "cell_type": "code",
   "execution_count": 2,
   "id": "0062d927-66be-4744-8b33-4a94726e2499",
   "metadata": {},
   "outputs": [],
   "source": [
    "import numpy as np\n",
    "import matplotlib.pyplot as plt\n",
    "import cartopy.crs as ccrs\n",
    "import cmaps\n",
    "from matplotlib.colors import LogNorm\n",
    "from matplotlib.colors import ListedColormap\n",
    "import cartopy.feature as cfea\n",
    "\n",
    "def get_coordinate(city_index):\n",
    "    # open city information text\n",
    "    city_path = '/home/kajiyama/H08/H08_20230612/map/dat/cty_lst_/cityrange_list_temp.txt'\n",
    "    with open(city_path, \"r\") as file:\n",
    "        all_lines = file.readlines()\n",
    "    # get city\n",
    "    line = all_lines[city_index - 1]\n",
    "    line = line.strip()\n",
    "    parts = line.split()\n",
    "    \n",
    "    city_num = parts[0].zfill(3)\n",
    "    city = parts[5].replace(\"\\\"\", \"\").replace(\"?\", \"\").replace(\"/\", \"\")\n",
    "    \n",
    "    lonmin = float(parts[6])\n",
    "    lonmax = float(parts[7])\n",
    "    latmin = float(parts[8])\n",
    "    latmax = float(parts[9])\n",
    "\n",
    "    # Dimension of the data\n",
    "    a = 2160\n",
    "    b = 4320\n",
    "\n",
    "    ### Define the latitudes and longitudes\n",
    "    # West from UK is negative 0 <= lon <= -180\n",
    "    # East from UK is positive 0 <= lon <= 180\n",
    "    # small value to larger value (34-36, 138-140)\n",
    "    lat = np.linspace(-90, 90, a+1)\n",
    "    lon = np.linspace(-180, 180, b+1)\n",
    "\n",
    "    # calculate the indices correspondignt to the desired lat and lon\n",
    "    lat_start, lat_end = np.searchsorted(lat, [latmin, latmax])\n",
    "    lon_start, lon_end = np.searchsorted(lon, [lonmin, lonmax])\n",
    "\n",
    "    ### adjust to 0.25 grid\n",
    "    # lat\n",
    "    if lat_start%3 == 0:\n",
    "        lat_start = lat_start\n",
    "    elif lat_start%3 == 1:\n",
    "        lat_start -= 1\n",
    "    elif lat_start%3 == 2:\n",
    "        lat_start += 1\n",
    "\n",
    "    # lon\n",
    "    if lon_start%3 == 0:\n",
    "        lon_start = lon_start\n",
    "    elif lon_start%3 == 1:\n",
    "        lon_start -= 1\n",
    "    elif lon_start%3 == 2:\n",
    "        lon_start += 1\n",
    "\n",
    "    # 24 grid x 24 grid\n",
    "    lat_end = lat_start + 24\n",
    "    lon_end = lon_start + 24\n",
    "\n",
    "    # convert real lonlat to h08 lonlat\n",
    "    latmin_gl5 = lat[lat_start]\n",
    "    latmax_gl5 = lat[lat_end]\n",
    "    lonmin_gl5 = lon[lon_start]\n",
    "    lonmax_gl5 = lon[lon_end]\n",
    "    \n",
    "    return lat_start, lat_end, lon_start, lon_end, latmin_gl5, latmax_gl5, lonmin_gl5, lonmax_gl5"
   ]
  },
  {
   "cell_type": "code",
   "execution_count": 3,
   "id": "ec2814d1-c87c-467c-9ec2-591c5fd80195",
   "metadata": {},
   "outputs": [
    {
     "data": {
      "text/plain": [
       "<matplotlib.colorbar.Colorbar at 0x2b51533aefa0>"
      ]
     },
     "execution_count": 3,
     "metadata": {},
     "output_type": "execute_result"
    },
    {
     "data": {
      "image/png": "[encoded data removed]",
      "text/plain": [
       "<Figure size 640x480 with 2 Axes>"
      ]
     },
     "metadata": {},
     "output_type": "display_data"
    }
   ],
   "source": [
    "#-----------------------------------------------\n",
    "# Draw city mask\n",
    "#-----------------------------------------------\n",
    "\n",
    "# city index\n",
    "# [tokyo:1, losangels:12, paris: 20, london:29]\n",
    "index = 789\n",
    "\n",
    "mask_temp = np.fromfile(f'/home/kajiyama/H08/H08_20230612/map/dat/cty_msk_/city_{index:08d}.gl5', dtype='float32').reshape(2160, 4320)\n",
    "\n",
    "# get city mask\n",
    "\n",
    "# get city lonlat\n",
    "lat_start, lat_end, lon_start, lon_end, latmin_gl5, latmax_gl5, lonmin_gl5, lonmax_gl5 = get_coordinate(index)\n",
    "\n",
    "# crop\n",
    "mask_flipped = np.flipud(mask_temp)\n",
    "mask_cropped = mask_flipped[lat_start:lat_end, lon_start:lon_end]\n",
    "cropped_flipped = np.flipud(mask_cropped)\n",
    "\n",
    "# extent\n",
    "projection = ccrs.PlateCarree()\n",
    "img_extent = (lonmin_gl5, lonmax_gl5, latmin_gl5, latmax_gl5)\n",
    "\n",
    "# figure\n",
    "fig = plt.figure()\n",
    "ax = plt.subplot(projection=projection)\n",
    "ax.coastlines()\n",
    "ax.gridlines(draw_labels=True)\n",
    "im = ax.imshow(cropped_flipped,\n",
    "               origin='upper',\n",
    "               extent=img_extent,\n",
    "               transform=projection,\n",
    "               cmap='gray_r')\n",
    "fig.colorbar(im, ax=ax, orientation='horizontal')"
   ]
  },
  {
   "cell_type": "code",
   "execution_count": null,
   "id": "b795b0f5-4e3c-4def-a4af-855fa56bc1b9",
   "metadata": {},
   "outputs": [],
   "source": []
  }
 ],
 "metadata": {
  "kernelspec": {
   "display_name": "Python 3 (ipykernel)",
   "language": "python",
   "name": "python3"
  },
  "language_info": {
   "codemirror_mode": {
    "name": "ipython",
    "version": 3
   },
   "file_extension": ".py",
   "mimetype": "text/x-python",
   "name": "python",
   "nbconvert_exporter": "python",
   "pygments_lexer": "ipython3",
   "version": "3.9.0"
  }
 },
 "nbformat": 4,
 "nbformat_minor": 5
}
