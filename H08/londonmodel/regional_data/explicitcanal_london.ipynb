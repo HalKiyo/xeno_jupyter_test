{
 "cells": [
  {
   "cell_type": "code",
   "execution_count": 1,
   "id": "a73867ae-1733-4fbb-92f0-25be5a353a4f",
   "metadata": {},
   "outputs": [],
   "source": [
    "import os\n",
    "import numpy as np\n",
    "import matplotlib.pyplot as plt\n",
    "import cartopy.crs as ccrs\n",
    "import pprint"
   ]
  },
  {
   "cell_type": "code",
   "execution_count": 5,
   "id": "f7c5b37f-93f6-4448-b95c-4a7dce51cb0f",
   "metadata": {},
   "outputs": [
    {
     "name": "stdout",
     "output_type": "stream",
     "text": [
      "624 672 3816 3852\n"
     ]
    }
   ],
   "source": [
    "h08dir = '/home/kajiyama/H08/H08_20230612'\n",
    "SUF = '.gl5'\n",
    "tag = '.tk5'\n",
    "dtype = 'float32'\n",
    "gl5shape = (2160, 4320)\n",
    "hlfshape = (360, 720)\n",
    "tk5shape = (48, 36)\n",
    "\n",
    "# tokyo region\n",
    "# \"138 141 34 38\"\n",
    "one = 138\n",
    "two = 141\n",
    "three = 34\n",
    "four = 38\n",
    "upperindex = (90-four)*12\n",
    "lowerindex = (90-three)*12\n",
    "leftindex = (180+one)*12\n",
    "rightindex = (180+two)*12\n",
    "print(upperindex, lowerindex, leftindex, rightindex)"
   ]
  },
  {
   "cell_type": "code",
   "execution_count": 50,
   "id": "a16aca3f-ceb7-4323-b0f9-5279cd6c6e94",
   "metadata": {},
   "outputs": [
    {
     "data": {
      "text/plain": [
       "<matplotlib.image.AxesImage at 0x2abb5c97e0d0>"
      ]
     },
     "execution_count": 50,
     "metadata": {},
     "output_type": "execute_result"
    },
    {
     "data": {
      "image/png": "[encoded data removed]",
      "text/plain": [
       "<Figure size 640x480 with 1 Axes>"
      ]
     },
     "metadata": {},
     "output_type": "display_data"
    }
   ],
   "source": [
    "#file_path = h08dir + f'/map/org/K14/in__3___20000000{SUF}.org'\n",
    "file_path = h08dir + f'/map/org/K14/out_3___20000000{SUF}.org'\n",
    "data = np.fromfile(file_path, dtype=dtype).reshape(gl5shape)\n",
    "tokyo = data[upperindex:lowerindex, leftindex:rightindex]\n",
    "plt.imshow(tokyo, cmap='prism_r')"
   ]
  },
  {
   "cell_type": "code",
   "execution_count": 52,
   "id": "4d07680d-1879-4b39-907d-648421cbf5c3",
   "metadata": {},
   "outputs": [
    {
     "data": {
      "image/png": "[encoded data removed]",
      "text/plain": [
       "<Figure size 640x480 with 1 Axes>"
      ]
     },
     "metadata": {},
     "output_type": "display_data"
    },
    {
     "name": "stdout",
     "output_type": "stream",
     "text": [
      "0\n"
     ]
    }
   ],
   "source": [
    "# おそらくエジプトらへんの導水路を表していると思われる\n",
    "check = data[600:700, 700:800]\n",
    "plt.imshow(check, cmap='prism_r')\n",
    "plt.show()\n",
    "lst = []\n",
    "for i in range(2160):\n",
    "    for j in range(4320):\n",
    "        score = data[i,j]\n",
    "        if score != 0:\n",
    "            lst.append(score)\n",
    "            print(i, j, score)\n",
    "print(len(lst))"
   ]
  },
  {
   "cell_type": "code",
   "execution_count": 48,
   "id": "8e046722-6e27-4613-8199-9b7c89c35192",
   "metadata": {},
   "outputs": [],
   "source": [
    "# meteorological forcing data should be also replaced\n",
    "# it's done in /met/pre/extract_region.py"
   ]
  },
  {
   "cell_type": "code",
   "execution_count": 49,
   "id": "6e417dbe-ee28-4ef5-b0ef-03bec4675a22",
   "metadata": {},
   "outputs": [
    {
     "name": "stdout",
     "output_type": "stream",
     "text": [
      "/home/kajiyama/H08/H08_20230612/map/org/K14/in__3___20000000.gl5.org\n",
      "/home/kajiyama/H08/H08_20230612/map/org/K14/in__3___20000000.tk5.org\n"
     ]
    }
   ],
   "source": [
    "# save the file\n",
    "save_flag = True\n",
    "if save_flag is True:\n",
    "    loadfile = file_path\n",
    "    savefile = file_path.replace(SUF, tag)\n",
    "    print(loadfile)\n",
    "    print(savefile)\n",
    "    data = np.fromfile(loadfile, dtype=dtype).reshape(gl5shape)\n",
    "    tokyo = data[upperindex:lowerindex, leftindex:rightindex]\n",
    "    tokyo.astype(np.float32).tofile(savefile)"
   ]
  },
  {
   "cell_type": "code",
   "execution_count": null,
   "id": "1bcbe37d-9987-45a2-8abb-920710c708ee",
   "metadata": {},
   "outputs": [],
   "source": []
  }
 ],
 "metadata": {
  "kernelspec": {
   "display_name": "Python 3 (ipykernel)",
   "language": "python",
   "name": "python3"
  },
  "language_info": {
   "codemirror_mode": {
    "name": "ipython",
    "version": 3
   },
   "file_extension": ".py",
   "mimetype": "text/x-python",
   "name": "python",
   "nbconvert_exporter": "python",
   "pygments_lexer": "ipython3",
   "version": "3.9.0"
  }
 },
 "nbformat": 4,
 "nbformat_minor": 5
}
