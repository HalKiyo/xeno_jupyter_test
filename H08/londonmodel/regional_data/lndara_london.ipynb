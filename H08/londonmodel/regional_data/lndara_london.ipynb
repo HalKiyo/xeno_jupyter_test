{
 "cells": [
  {
   "cell_type": "code",
   "execution_count": 2,
   "id": "01046cb2-8bb1-439c-b618-c79359c4f648",
   "metadata": {},
   "outputs": [],
   "source": [
    "import numpy as np\n",
    "import matplotlib.pyplot as plt\n",
    "import cartopy.crs as ccrs\n",
    "import pprint"
   ]
  },
  {
   "cell_type": "code",
   "execution_count": 12,
   "id": "0c1cbea6-c184-4170-a21f-c25fe5da3807",
   "metadata": {},
   "outputs": [
    {
     "name": "stdout",
     "output_type": "stream",
     "text": [
      "444 480 2124 2172\n"
     ]
    }
   ],
   "source": [
    "h08dir = '/home/kajiyama/H08/H08_20230612'\n",
    "SUF = '.gl5'\n",
    "tag = '.ln5'\n",
    "dtype = 'float32'\n",
    "gl5shape = (2160, 4320)\n",
    "rgnshape = (36, 48)\n",
    "#\n",
    "one = -3\n",
    "two = 1\n",
    "three = 50\n",
    "four = 53\n",
    "upperindex = (90-four)*12\n",
    "lowerindex = (90-three)*12\n",
    "leftindex = (180+one)*12\n",
    "rightindex = (180+two)*12\n",
    "print(upperindex, lowerindex, leftindex, rightindex)"
   ]
  },
  {
   "cell_type": "code",
   "execution_count": 22,
   "id": "4edc1264-ed67-4318-a840-11720599ddee",
   "metadata": {},
   "outputs": [
    {
     "data": {
      "text/plain": [
       "<matplotlib.image.AxesImage at 0x2b41eab218b0>"
      ]
     },
     "execution_count": 22,
     "metadata": {},
     "output_type": "execute_result"
    },
    {
     "data": {
      "image/png": "[encoded data removed]",
      "text/plain": [
       "<Figure size 640x480 with 1 Axes>"
      ]
     },
     "metadata": {},
     "output_type": "display_data"
    }
   ],
   "source": [
    "maskpath = h08dir + f'/map/dat/lnd_msk_/lndmsk.CAMA{tag}'\n",
    "lndmsk = np.fromfile(maskpath, dtype=dtype).reshape(rgnshape)\n",
    "plt.imshow(lndmsk)"
   ]
  },
  {
   "cell_type": "code",
   "execution_count": 23,
   "id": "9406df08-b90a-432d-95d6-660c80eb8a1f",
   "metadata": {},
   "outputs": [],
   "source": [
    "lndara_load = f\"{h08dir}/map/dat/lnd_ara_/lndara.CAMA{SUF}\"\n",
    "lndara_save = f\"{h08dir}/map/dat/lnd_ara_/lndara.CAMA{tag}\""
   ]
  },
  {
   "cell_type": "code",
   "execution_count": 27,
   "id": "613a2b70-5768-4984-a807-1ca42a9b047c",
   "metadata": {},
   "outputs": [],
   "source": [
    "save_flag = False \n",
    "if save_flag is True:\n",
    "    data = np.fromfile(lndara_load, dtype=dtype).reshape(gl5shape)\n",
    "    region = data[upperindex:lowerindex, leftindex:rightindex]\n",
    "    region_masked = np.where(lndmsk==1, lndara, 0)\n",
    "    region_masked.astype(np.float32).tofile(lndara_save)"
   ]
  },
  {
   "cell_type": "code",
   "execution_count": 28,
   "id": "7b5dc955-a844-44e2-8d5f-1a27d7c1f12b",
   "metadata": {},
   "outputs": [
    {
     "name": "stdout",
     "output_type": "stream",
     "text": [
      "[0. 0. 0. 0. 0. 0. 0. 0. 0. 0. 0. 0. 0. 0. 0. 0. 0. 0. 0. 0. 0. 0. 0. 0.\n",
      " 0. 0. 0. 0. 0. 0. 0. 0. 0. 0. 0. 0. 0. 0. 0. 0. 0. 0. 0. 0. 0. 0. 0. 0.]\n"
     ]
    },
    {
     "data": {
      "image/png": "[encoded data removed]",
      "text/plain": [
       "<Figure size 640x480 with 1 Axes>"
      ]
     },
     "metadata": {},
     "output_type": "display_data"
    }
   ],
   "source": [
    "arapath = h08dir + f'/map/dat/lnd_ara_/lndara.CAMA{tag}'\n",
    "lndara = np.fromfile(arapath, dtype=dtype).reshape(rgnshape)\n",
    "plt.imshow(lndara)\n",
    "print(lndara[0])"
   ]
  }
 ],
 "metadata": {
  "kernelspec": {
   "display_name": "Python 3 (ipykernel)",
   "language": "python",
   "name": "python3"
  },
  "language_info": {
   "codemirror_mode": {
    "name": "ipython",
    "version": 3
   },
   "file_extension": ".py",
   "mimetype": "text/x-python",
   "name": "python",
   "nbconvert_exporter": "python",
   "pygments_lexer": "ipython3",
   "version": "3.9.0"
  }
 },
 "nbformat": 4,
 "nbformat_minor": 5
}
